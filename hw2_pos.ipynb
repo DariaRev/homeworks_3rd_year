{
  "nbformat": 4,
  "nbformat_minor": 0,
  "metadata": {
    "colab": {
      "name": "hw2-pos.ipynb",
      "provenance": [],
      "collapsed_sections": []
    },
    "kernelspec": {
      "name": "python3",
      "display_name": "Python 3"
    },
    "language_info": {
      "name": "python"
    },
    "widgets": {
      "application/vnd.jupyter.widget-state+json": {
        "4758a07c864e4804ace8153b6ba9b5b8": {
          "model_module": "@jupyter-widgets/controls",
          "model_name": "HBoxModel",
          "model_module_version": "1.5.0",
          "state": {
            "_view_name": "HBoxView",
            "_dom_classes": [],
            "_model_name": "HBoxModel",
            "_view_module": "@jupyter-widgets/controls",
            "_model_module_version": "1.5.0",
            "_view_count": null,
            "_view_module_version": "1.5.0",
            "box_style": "",
            "layout": "IPY_MODEL_777ca40ed1d445b59de7a1af7a4a82dd",
            "_model_module": "@jupyter-widgets/controls",
            "children": [
              "IPY_MODEL_a32e3f624ff544c98668d689977e2695",
              "IPY_MODEL_ca0f8701048240f68aa29926039508fb",
              "IPY_MODEL_1f8cc7b714874ca8a5a2af4b8ae39cec"
            ]
          }
        },
        "777ca40ed1d445b59de7a1af7a4a82dd": {
          "model_module": "@jupyter-widgets/base",
          "model_name": "LayoutModel",
          "model_module_version": "1.2.0",
          "state": {
            "_view_name": "LayoutView",
            "grid_template_rows": null,
            "right": null,
            "justify_content": null,
            "_view_module": "@jupyter-widgets/base",
            "overflow": null,
            "_model_module_version": "1.2.0",
            "_view_count": null,
            "flex_flow": null,
            "width": null,
            "min_width": null,
            "border": null,
            "align_items": null,
            "bottom": null,
            "_model_module": "@jupyter-widgets/base",
            "top": null,
            "grid_column": null,
            "overflow_y": null,
            "overflow_x": null,
            "grid_auto_flow": null,
            "grid_area": null,
            "grid_template_columns": null,
            "flex": null,
            "_model_name": "LayoutModel",
            "justify_items": null,
            "grid_row": null,
            "max_height": null,
            "align_content": null,
            "visibility": null,
            "align_self": null,
            "height": null,
            "min_height": null,
            "padding": null,
            "grid_auto_rows": null,
            "grid_gap": null,
            "max_width": null,
            "order": null,
            "_view_module_version": "1.2.0",
            "grid_template_areas": null,
            "object_position": null,
            "object_fit": null,
            "grid_auto_columns": null,
            "margin": null,
            "display": null,
            "left": null
          }
        },
        "a32e3f624ff544c98668d689977e2695": {
          "model_module": "@jupyter-widgets/controls",
          "model_name": "HTMLModel",
          "model_module_version": "1.5.0",
          "state": {
            "_view_name": "HTMLView",
            "style": "IPY_MODEL_e649327b7f8942c997844c4f48152cbb",
            "_dom_classes": [],
            "description": "",
            "_model_name": "HTMLModel",
            "placeholder": "​",
            "_view_module": "@jupyter-widgets/controls",
            "_model_module_version": "1.5.0",
            "value": "Downloading https://raw.githubusercontent.com/stanfordnlp/stanza-resources/main/resources_1.2.2.json: ",
            "_view_count": null,
            "_view_module_version": "1.5.0",
            "description_tooltip": null,
            "_model_module": "@jupyter-widgets/controls",
            "layout": "IPY_MODEL_eabfad76a9bc402a8fa345ecbbb5b902"
          }
        },
        "ca0f8701048240f68aa29926039508fb": {
          "model_module": "@jupyter-widgets/controls",
          "model_name": "FloatProgressModel",
          "model_module_version": "1.5.0",
          "state": {
            "_view_name": "ProgressView",
            "style": "IPY_MODEL_ba0ba4f190c0490e93ef2356fa462f91",
            "_dom_classes": [],
            "description": "",
            "_model_name": "FloatProgressModel",
            "bar_style": "success",
            "max": 24144,
            "_view_module": "@jupyter-widgets/controls",
            "_model_module_version": "1.5.0",
            "value": 24144,
            "_view_count": null,
            "_view_module_version": "1.5.0",
            "orientation": "horizontal",
            "min": 0,
            "description_tooltip": null,
            "_model_module": "@jupyter-widgets/controls",
            "layout": "IPY_MODEL_9d67f7d13a494550b818ce8274e6882d"
          }
        },
        "1f8cc7b714874ca8a5a2af4b8ae39cec": {
          "model_module": "@jupyter-widgets/controls",
          "model_name": "HTMLModel",
          "model_module_version": "1.5.0",
          "state": {
            "_view_name": "HTMLView",
            "style": "IPY_MODEL_e03374d31bf244798b259f35a2bac5d0",
            "_dom_classes": [],
            "description": "",
            "_model_name": "HTMLModel",
            "placeholder": "​",
            "_view_module": "@jupyter-widgets/controls",
            "_model_module_version": "1.5.0",
            "value": " 140k/? [00:00&lt;00:00, 2.52MB/s]",
            "_view_count": null,
            "_view_module_version": "1.5.0",
            "description_tooltip": null,
            "_model_module": "@jupyter-widgets/controls",
            "layout": "IPY_MODEL_4c3453dc3c9d468db295ecd74ec20746"
          }
        },
        "e649327b7f8942c997844c4f48152cbb": {
          "model_module": "@jupyter-widgets/controls",
          "model_name": "DescriptionStyleModel",
          "model_module_version": "1.5.0",
          "state": {
            "_view_name": "StyleView",
            "_model_name": "DescriptionStyleModel",
            "description_width": "",
            "_view_module": "@jupyter-widgets/base",
            "_model_module_version": "1.5.0",
            "_view_count": null,
            "_view_module_version": "1.2.0",
            "_model_module": "@jupyter-widgets/controls"
          }
        },
        "eabfad76a9bc402a8fa345ecbbb5b902": {
          "model_module": "@jupyter-widgets/base",
          "model_name": "LayoutModel",
          "model_module_version": "1.2.0",
          "state": {
            "_view_name": "LayoutView",
            "grid_template_rows": null,
            "right": null,
            "justify_content": null,
            "_view_module": "@jupyter-widgets/base",
            "overflow": null,
            "_model_module_version": "1.2.0",
            "_view_count": null,
            "flex_flow": null,
            "width": null,
            "min_width": null,
            "border": null,
            "align_items": null,
            "bottom": null,
            "_model_module": "@jupyter-widgets/base",
            "top": null,
            "grid_column": null,
            "overflow_y": null,
            "overflow_x": null,
            "grid_auto_flow": null,
            "grid_area": null,
            "grid_template_columns": null,
            "flex": null,
            "_model_name": "LayoutModel",
            "justify_items": null,
            "grid_row": null,
            "max_height": null,
            "align_content": null,
            "visibility": null,
            "align_self": null,
            "height": null,
            "min_height": null,
            "padding": null,
            "grid_auto_rows": null,
            "grid_gap": null,
            "max_width": null,
            "order": null,
            "_view_module_version": "1.2.0",
            "grid_template_areas": null,
            "object_position": null,
            "object_fit": null,
            "grid_auto_columns": null,
            "margin": null,
            "display": null,
            "left": null
          }
        },
        "ba0ba4f190c0490e93ef2356fa462f91": {
          "model_module": "@jupyter-widgets/controls",
          "model_name": "ProgressStyleModel",
          "model_module_version": "1.5.0",
          "state": {
            "_view_name": "StyleView",
            "_model_name": "ProgressStyleModel",
            "description_width": "",
            "_view_module": "@jupyter-widgets/base",
            "_model_module_version": "1.5.0",
            "_view_count": null,
            "_view_module_version": "1.2.0",
            "bar_color": null,
            "_model_module": "@jupyter-widgets/controls"
          }
        },
        "9d67f7d13a494550b818ce8274e6882d": {
          "model_module": "@jupyter-widgets/base",
          "model_name": "LayoutModel",
          "model_module_version": "1.2.0",
          "state": {
            "_view_name": "LayoutView",
            "grid_template_rows": null,
            "right": null,
            "justify_content": null,
            "_view_module": "@jupyter-widgets/base",
            "overflow": null,
            "_model_module_version": "1.2.0",
            "_view_count": null,
            "flex_flow": null,
            "width": null,
            "min_width": null,
            "border": null,
            "align_items": null,
            "bottom": null,
            "_model_module": "@jupyter-widgets/base",
            "top": null,
            "grid_column": null,
            "overflow_y": null,
            "overflow_x": null,
            "grid_auto_flow": null,
            "grid_area": null,
            "grid_template_columns": null,
            "flex": null,
            "_model_name": "LayoutModel",
            "justify_items": null,
            "grid_row": null,
            "max_height": null,
            "align_content": null,
            "visibility": null,
            "align_self": null,
            "height": null,
            "min_height": null,
            "padding": null,
            "grid_auto_rows": null,
            "grid_gap": null,
            "max_width": null,
            "order": null,
            "_view_module_version": "1.2.0",
            "grid_template_areas": null,
            "object_position": null,
            "object_fit": null,
            "grid_auto_columns": null,
            "margin": null,
            "display": null,
            "left": null
          }
        },
        "e03374d31bf244798b259f35a2bac5d0": {
          "model_module": "@jupyter-widgets/controls",
          "model_name": "DescriptionStyleModel",
          "model_module_version": "1.5.0",
          "state": {
            "_view_name": "StyleView",
            "_model_name": "DescriptionStyleModel",
            "description_width": "",
            "_view_module": "@jupyter-widgets/base",
            "_model_module_version": "1.5.0",
            "_view_count": null,
            "_view_module_version": "1.2.0",
            "_model_module": "@jupyter-widgets/controls"
          }
        },
        "4c3453dc3c9d468db295ecd74ec20746": {
          "model_module": "@jupyter-widgets/base",
          "model_name": "LayoutModel",
          "model_module_version": "1.2.0",
          "state": {
            "_view_name": "LayoutView",
            "grid_template_rows": null,
            "right": null,
            "justify_content": null,
            "_view_module": "@jupyter-widgets/base",
            "overflow": null,
            "_model_module_version": "1.2.0",
            "_view_count": null,
            "flex_flow": null,
            "width": null,
            "min_width": null,
            "border": null,
            "align_items": null,
            "bottom": null,
            "_model_module": "@jupyter-widgets/base",
            "top": null,
            "grid_column": null,
            "overflow_y": null,
            "overflow_x": null,
            "grid_auto_flow": null,
            "grid_area": null,
            "grid_template_columns": null,
            "flex": null,
            "_model_name": "LayoutModel",
            "justify_items": null,
            "grid_row": null,
            "max_height": null,
            "align_content": null,
            "visibility": null,
            "align_self": null,
            "height": null,
            "min_height": null,
            "padding": null,
            "grid_auto_rows": null,
            "grid_gap": null,
            "max_width": null,
            "order": null,
            "_view_module_version": "1.2.0",
            "grid_template_areas": null,
            "object_position": null,
            "object_fit": null,
            "grid_auto_columns": null,
            "margin": null,
            "display": null,
            "left": null
          }
        }
      }
    }
  },
  "cells": [
    {
      "cell_type": "code",
      "metadata": {
        "id": "liLaF_klrkWd"
      },
      "source": [
        "text = \"Король японских забегаловок, прародитель доширака, та самая лапша из «Наруто» и кучи других тайтлов. Также помимо этого есть легенда, что рамен был ввезен китайским учёным Чжу Сунсуи, который был вынужден стать беженцем и служил как советник Токугаве Мицукуни, японскому феодальному лорду. Часто используется темпура удон и тофу (кицунэ удон). Вдохновением для блюда была другая закуска — «акашияки», которая готовилась в префектуре Хъёго, городе Акаши, и была сделана из яиц и осьминога. Первые такояки содержали в себе конняку и говядину, однако потом Эндо переключился снова на осьминога. В начале 20 века карри появилось в рационе японского морского флота, как способ борьбы с авитаминозом, и также используется по сей день (в одном аниме есть серия, посвящённая карри, как раз потому, что там корабледевочки). Вообще есть небольшой лайфхак. Нужно купить обычное порошковое карри, тут важно почитать состав, карри бывают разные, вам нужен тот, где есть фенугрек или фенхель или оба сразу. Был я значит в этой вашей Японии, честно пытался схарчевать там рамен. В обоих случаях оглядываясь по сторонам я заметил что самураи уплетали это явство с явным удовольствием и причмокиванием. Ну вот приготовление якитори они познали в совершенстве, с этим не поспоришь. Ну и для взрослых конечно это японский вискарь, офигительно крутая штука. Сакэ норм но на любителя, правда получше корейской сётю. И все равно не могу понять в чем разница между карри и тушенной картохой, кроме специи. Готовил и карри, и якисобу, и разные вариации рамена, омурайсу, онигири, кацудон. Нынешняя ДОМАШНЯЯ японская кухня довольно простая и понятная, всё делается из очень доступных продуктов. Ресторанка и фастфуд - уже совсем другая песня.\""
      ],
      "execution_count": 288,
      "outputs": []
    },
    {
      "cell_type": "markdown",
      "metadata": {
        "id": "m6WDJDQRVkDB"
      },
      "source": [
        "Данный текст подходит для оценки, поскольку в нем есть  слова с «неизвестными» корнями, не содержащие продуктивных аффиксов, для которых можно однозначно определить лемму и часть\n",
        "речи. Также здесь есть несколько имен собственных и неологизмов (схарчевать, корабледевочки). Несколько жаргонов также присутствуют (картоха, вискарь, норм, ресторанка). "
      ]
    },
    {
      "cell_type": "code",
      "metadata": {
        "colab": {
          "base_uri": "https://localhost:8080/"
        },
        "id": "GfrtqTQU1EmS",
        "outputId": "a98a7e8d-50f7-4738-854b-3d4842941a87"
      },
      "source": [
        "import csv\n",
        "import nltk\n",
        "from nltk.tokenize import word_tokenize\n",
        "\n",
        "nltk.download('punkt')\n",
        "from string import punctuation\n",
        "words = [w.lower() for w in word_tokenize(text) if w.isalpha()]\n",
        "#print(words)\n",
        "with open(\"words.csv\", \"w\") as file:\n",
        "  for elem in words:\n",
        "    elem_new = elem.split()\n",
        "    writer = csv.writer(file)\n",
        "    writer.writerow(elem_new)"
      ],
      "execution_count": 289,
      "outputs": [
        {
          "output_type": "stream",
          "name": "stdout",
          "text": [
            "[nltk_data] Downloading package punkt to /root/nltk_data...\n",
            "[nltk_data]   Package punkt is already up-to-date!\n"
          ]
        }
      ]
    },
    {
      "cell_type": "markdown",
      "metadata": {
        "id": "L8kOWqYkVhGA"
      },
      "source": [
        "Для разметки я беру тэгсет как в pymorphy. Это из-за того, что он более полно может разделить части речи. Но в этом есть и минус. Когда я приводила все к одному виду, пришлось использовать тэги из других тэгсетов (udpipe), поскольку многие тэггеры работают именно на этой коллекции. Поэтому я решила разметить корпус еще и по стандарту universal dependencies. \n"
      ]
    },
    {
      "cell_type": "markdown",
      "metadata": {
        "id": "5UPTtW7LbFf-"
      },
      "source": [
        "Здесь корпус, размеченный по типа **pymorphy** и конвертированный"
      ]
    },
    {
      "cell_type": "code",
      "metadata": {
        "colab": {
          "base_uri": "https://localhost:8080/"
        },
        "id": "Til1DiiouYZU",
        "outputId": "24e99993-d5d1-4ece-bc2d-82fb91e28866"
      },
      "source": [
        "my_parse = []\n",
        "with open ('words_tags.csv') as f:\n",
        "  reader = csv.reader(f, delimiter = ';')\n",
        "  for row in reader:\n",
        "    my_parse.append((row[0], convert(row[1])))\n",
        "  my_parse.remove(my_parse[0])\n",
        "  print(my_parse)"
      ],
      "execution_count": 347,
      "outputs": [
        {
          "output_type": "stream",
          "name": "stdout",
          "text": [
            "[('король', 'NOUN'), ('японских', 'ADJ'), ('забегаловок', 'NOUN'), ('прародитель', 'NOUN'), ('доширака', 'NOUN'), ('та', 'ADJ'), ('самая', 'ADJ'), ('лапша', 'NOUN'), ('из', 'ADP'), ('наруто', 'NOUN'), ('и', 'CCONJ'), ('кучи', 'NOUN'), ('других', 'ADJ'), ('тайтлов', 'NOUN'), ('также', 'CCONJ'), ('помимо', 'ADP'), ('этого', 'ADJ'), ('есть', 'VERB'), ('легенда', 'NOUN'), ('что', 'CCONJ'), ('рамен', 'NOUN'), ('был', 'VERB'), ('ввезен', 'PRTS'), ('китайским', 'ADJ'), ('учёным', 'NOUN'), ('чжу', 'NOUN'), ('сунсуи', 'NOUN'), ('который', 'ADJ'), ('был', 'VERB'), ('вынужден', 'PRTS'), ('стать', 'VERB'), ('беженцем', 'NOUN'), ('и', 'CCONJ'), ('служил', 'VERB'), ('как', 'CCONJ'), ('советник', 'NOUN'), ('токугаве', 'NOUN'), ('мицукуни', 'NOUN'), ('японскому', 'ADJ'), ('феодальному', 'ADJ'), ('лорду', 'NOUN'), ('часто', 'ADV'), ('используется', 'VERB'), ('темпура', 'NOUN'), ('удон', 'NOUN'), ('и', 'CCONJ'), ('тофу', 'NOUN'), ('кицунэ', 'ADJ'), ('удон', 'NOUN'), ('вдохновением', 'NOUN'), ('для', 'ADP'), ('блюда', 'NOUN'), ('была', 'VERB'), ('другая', 'ADJ'), ('закуска', 'NOUN'), ('акашияки', 'NOUN'), ('которая', 'ADJ'), ('готовилась', 'VERB'), ('в', 'ADP'), ('префектуре', 'NOUN'), ('хъёго', 'NOUN'), ('городе', 'NOUN'), ('акаши', 'NOUN'), ('и', 'CCONJ'), ('была', 'VERB'), ('сделана', 'PRTS'), ('из', 'ADP'), ('яиц', 'NOUN'), ('и', 'CCONJ'), ('осьминога', 'NOUN'), ('первые', 'ADJ'), ('такояки', 'NOUN'), ('содержали', 'VERB'), ('в', 'ADP'), ('себе', 'PART'), ('конняку', 'NOUN'), ('и', 'CCONJ'), ('говядину', 'NOUN'), ('однако', 'CCONJ'), ('потом', 'ADV'), ('эндо', 'NOUN'), ('переключился', 'VERB'), ('снова', 'ADV'), ('на', 'ADP'), ('осьминога', 'NOUN'), ('в', 'ADP'), ('начале', 'NOUN'), ('века', 'NOUN'), ('карри', 'NOUN'), ('появилось', 'VERB'), ('в', 'ADP'), ('рационе', 'NOUN'), ('японского', 'ADJ'), ('морского', 'ADJ'), ('флота', 'NOUN'), ('как', 'CCONJ'), ('способ', 'NOUN'), ('борьбы', 'NOUN'), ('с', 'ADP'), ('авитаминозом', 'NOUN'), ('и', 'CCONJ'), ('также', 'CCONJ'), ('используется', 'VERB'), ('по', 'ADP'), ('сей', 'ADJ'), ('день', 'NOUN'), ('в', 'ADP'), ('одном', 'ADJ'), ('аниме', 'NOUN'), ('есть', 'VERB'), ('серия', 'NOUN'), ('посвящённая', 'PRTS'), ('карри', 'NOUN'), ('как', 'PART'), ('раз', 'PART'), ('потому', 'CCONJ'), ('что', 'CCONJ'), ('там', 'ADV'), ('корабледевочки', 'NOUN'), ('вообще', 'ADV'), ('есть', 'VERB'), ('небольшой', 'ADJ'), ('лайфхак', 'NOUN'), ('нужно', 'PRED'), ('купить', 'VERB'), ('обычное', 'ADJ'), ('порошковое', 'ADJ'), ('карри', 'NOUN'), ('тут', 'ADV'), ('важно', 'ADJ'), ('почитать', 'VERB'), ('состав', 'NOUN'), ('карри', 'NOUN'), ('бывают', 'VERB'), ('разные', 'ADJ'), ('вам', 'PRON'), ('нужен', 'PRED'), ('тот', 'ADJ'), ('где', 'ADV'), ('есть', 'VERB'), ('фенугрек', 'NOUN'), ('или', 'CCONJ'), ('фенхель', 'NOUN'), ('или', 'CCONJ'), ('оба', 'NUM'), ('сразу', 'ADV'), ('был', 'VERB'), ('я', 'PRON'), ('значит', 'ADV'), ('в', 'ADP'), ('этой', 'ADJ'), ('вашей', 'PRON'), ('японии', 'NOUN'), ('честно', 'ADJ'), ('пытался', 'VERB'), ('схарчевать', 'VERB'), ('там', 'ADV'), ('рамен', 'NOUN'), ('в', 'ADP'), ('обоих', 'NUM'), ('случаях', 'NOUN'), ('оглядываясь', 'GRND'), ('по', 'ADP'), ('сторонам', 'NOUN'), ('я', 'PRON'), ('заметил', 'VERB'), ('что', 'CCONJ'), ('самураи', 'NOUN'), ('уплетали', 'VERB'), ('это', 'ADJ'), ('явство', 'NOUN'), ('с', 'ADP'), ('явным', 'ADJ'), ('удовольствием', 'NOUN'), ('и', 'CCONJ'), ('причмокиванием', 'NOUN'), ('ну', 'INTJ'), ('вот', 'INTJ'), ('приготовление', 'NOUN'), ('якитори', 'NOUN'), ('они', 'PRON'), ('познали', 'VERB'), ('в', 'ADP'), ('совершенстве', 'NOUN'), ('с', 'ADP'), ('этим', 'ADJ'), ('не', 'PART'), ('поспоришь', 'VERB'), ('ну', 'INTJ'), ('и', 'CCONJ'), ('для', 'ADP'), ('взрослых', 'NOUN'), ('конечно', 'PART'), ('это', 'ADJ'), ('японский', 'ADJ'), ('вискарь', 'NOUN'), ('офигительно', 'ADV'), ('крутая', 'ADJ'), ('штука', 'NOUN'), ('сакэ', 'NOUN'), ('норм', 'ADJ'), ('но', 'CCONJ'), ('на', 'ADP'), ('любителя', 'NOUN'), ('правда', 'PART'), ('получше', 'COMP'), ('корейской', 'ADJ'), ('сётю', 'NOUN'), ('и', 'CCONJ'), ('все', 'PART'), ('равно', 'PART'), ('не', 'PART'), ('могу', 'VERB'), ('понять', 'VERB'), ('в', 'ADP'), ('чем', 'PRON'), ('разница', 'NOUN'), ('между', 'ADP'), ('карри', 'NOUN'), ('и', 'CCONJ'), ('тушенной', 'ADJ'), ('картохой', 'NOUN'), ('кроме', 'ADP'), ('специи', 'NOUN'), ('готовил', 'VERB'), ('и', 'CCONJ'), ('карри', 'NOUN'), ('и', 'CCONJ'), ('якисобу', 'NOUN'), ('и', 'CCONJ'), ('разные', 'ADJ'), ('вариации', 'NOUN'), ('рамена', 'NOUN'), ('омурайсу', 'NOUN'), ('онигири', 'NOUN'), ('кацудон', 'NOUN'), ('нынешняя', 'ADJ'), ('домашняя', 'ADJ'), ('японская', 'ADJ'), ('кухня', 'NOUN'), ('довольно', 'ADV'), ('простая', 'ADJ'), ('и', 'CCONJ'), ('понятная', 'ADJ'), ('всё', 'PRON'), ('делается', 'VERB'), ('из', 'ADP'), ('очень', 'ADV'), ('доступных', 'ADJ'), ('продуктов', 'NOUN'), ('ресторанка', 'NOUN'), ('и', 'CCONJ'), ('фастфуд', 'NOUN'), ('уже', 'ADV'), ('совсем', 'ADV'), ('другая', 'ADJ'), ('песня', 'NOUN')]\n"
          ]
        }
      ]
    },
    {
      "cell_type": "markdown",
      "metadata": {
        "id": "T1Ny2BtCbSnD"
      },
      "source": [
        "Здесь корпус, размеченный по типу **universal dependencies**"
      ]
    },
    {
      "cell_type": "code",
      "metadata": {
        "colab": {
          "base_uri": "https://localhost:8080/"
        },
        "id": "VKD3rrgnZ3uM",
        "outputId": "6c099b10-ec13-49c5-c864-96d8b1b66336"
      },
      "source": [
        "my_parse2 = []\n",
        "with open ('pos_tags_ud.csv') as f:\n",
        "  reader = csv.reader(f, delimiter = ';')\n",
        "  for row in reader:\n",
        "    my_parse2.append((row[0], convert(row[1])))\n",
        "  my_parse2.remove(my_parse2[0])\n",
        "  print(my_parse2)"
      ],
      "execution_count": 348,
      "outputs": [
        {
          "output_type": "stream",
          "name": "stdout",
          "text": [
            "[('король', 'NOUN'), ('японских', 'ADJ'), ('забегаловок', 'NOUN'), ('прародитель', 'NOUN'), ('доширака', 'NOUN'), ('та', 'DET'), ('самая', 'ADJ'), ('лапша', 'NOUN'), ('из', 'ADP'), ('наруто', 'NOUN'), ('и', 'CCONJ'), ('кучи', 'NOUN'), ('других', 'ADJ'), ('тайтлов', 'NOUN'), ('также', 'CCONJ'), ('помимо', 'ADP'), ('этого', 'DET'), ('есть', 'AUX'), ('легенда', 'NOUN'), ('что', 'SCONJ'), ('рамен', 'NOUN'), ('был', 'AUX'), ('ввезен', 'VERB'), ('китайским', 'ADJ'), ('учёным', 'NOUN'), ('чжу', 'NOUN'), ('сунсуи', 'NOUN'), ('который', 'ADJ'), ('был', 'AUX'), ('вынужден', 'VERB'), ('стать', 'VERB'), ('беженцем', 'NOUN'), ('и', 'CCONJ'), ('служил', 'VERB'), ('как', 'SCONJ'), ('советник', 'NOUN'), ('токугаве', 'NOUN'), ('мицукуни', 'NOUN'), ('японскому', 'ADJ'), ('феодальному', 'ADJ'), ('лорду', 'NOUN'), ('часто', 'ADV'), ('используется', 'VERB'), ('темпура', 'NOUN'), ('удон', 'NOUN'), ('и', 'CCONJ'), ('тофу', 'NOUN'), ('кицунэ', 'ADJ'), ('удон', 'NOUN'), ('вдохновением', 'NOUN'), ('для', 'ADP'), ('блюда', 'NOUN'), ('была', 'VERB'), ('другая', 'ADJ'), ('закуска', 'NOUN'), ('акашияки', 'NOUN'), ('которая', 'ADJ'), ('готовилась', 'VERB'), ('в', 'ADP'), ('префектуре', 'NOUN'), ('хъёго', 'NOUN'), ('городе', 'NOUN'), ('акаши', 'NOUN'), ('и', 'CCONJ'), ('была', 'AUX'), ('сделана', 'VERB'), ('из', 'ADP'), ('яиц', 'NOUN'), ('и', 'CCONJ'), ('осьминога', 'NOUN'), ('первые', 'ADJ'), ('такояки', 'NOUN'), ('содержали', 'VERB'), ('в', 'ADP'), ('себе', 'PART'), ('конняку', 'NOUN'), ('и', 'CCONJ'), ('говядину', 'NOUN'), ('однако', 'CCONJ'), ('потом', 'ADV'), ('эндо', 'NOUN'), ('переключился', 'VERB'), ('снова', 'ADV'), ('на', 'ADP'), ('осьминога', 'NOUN'), ('в', 'ADP'), ('начале', 'NOUN'), ('века', 'NOUN'), ('карри', 'NOUN'), ('появилось', 'VERB'), ('в', 'ADP'), ('рационе', 'NOUN'), ('японского', 'ADJ'), ('морского', 'ADJ'), ('флота', 'NOUN'), ('как', 'CCONJ'), ('способ', 'NOUN'), ('борьбы', 'NOUN'), ('с', 'ADP'), ('авитаминозом', 'NOUN'), ('и', 'CCONJ'), ('также', 'CCONJ'), ('используется', 'VERB'), ('по', 'ADP'), ('сей', 'ADJ'), ('день', 'NOUN'), ('в', 'ADP'), ('одном', 'ADJ'), ('аниме', 'NOUN'), ('есть', 'AUX'), ('серия', 'NOUN'), ('посвящённая', 'VERB'), ('карри', 'NOUN'), ('как', 'PART'), ('раз', 'PART'), ('потому', 'SCONJ'), ('что', 'SCONJ'), ('там', 'ADV'), ('корабледевочки', 'NOUN'), ('вообще', 'ADV'), ('есть', 'AUX'), ('небольшой', 'ADJ'), ('лайфхак', 'NOUN'), ('нужно', 'VERB'), ('купить', 'VERB'), ('обычное', 'ADJ'), ('порошковое', 'ADJ'), ('карри', 'NOUN'), ('тут', 'ADV'), ('важно', 'ADJ'), ('почитать', 'VERB'), ('состав', 'NOUN'), ('карри', 'NOUN'), ('бывают', 'VERB'), ('разные', 'ADJ'), ('вам', 'PRON'), ('нужен', 'VERB'), ('тот', 'DET'), ('где', 'ADV'), ('есть', 'AUX'), ('фенугрек', 'NOUN'), ('или', 'CCONJ'), ('фенхель', 'NOUN'), ('или', 'CCONJ'), ('оба', 'NUM'), ('сразу', 'ADV'), ('был', 'VERB'), ('я', 'PRON'), ('значит', 'ADV'), ('в', 'ADP'), ('этой', 'DET'), ('вашей', 'PRON'), ('японии', 'NOUN'), ('честно', 'ADJ'), ('пытался', 'VERB'), ('схарчевать', 'VERB'), ('там', 'ADV'), ('рамен', 'NOUN'), ('в', 'ADP'), ('обоих', 'NUM'), ('случаях', 'NOUN'), ('оглядываясь', 'VERB'), ('по', 'ADP'), ('сторонам', 'NOUN'), ('я', 'PRON'), ('заметил', 'VERB'), ('что', 'SCONJ'), ('самураи', 'NOUN'), ('уплетали', 'VERB'), ('это', 'DET'), ('явство', 'NOUN'), ('с', 'ADP'), ('явным', 'ADJ'), ('удовольствием', 'NOUN'), ('и', 'CCONJ'), ('причмокиванием', 'NOUN'), ('ну', 'INTJ'), ('вот', 'INTJ'), ('приготовление', 'NOUN'), ('якитори', 'NOUN'), ('они', 'PRON'), ('познали', 'VERB'), ('в', 'ADP'), ('совершенстве', 'NOUN'), ('с', 'ADP'), ('этим', 'ADJ'), ('не', 'PART'), ('поспоришь', 'VERB'), ('ну', 'INTJ'), ('и', 'CCONJ'), ('для', 'ADP'), ('взрослых', 'NOUN'), ('конечно', 'PART'), ('это', 'DET'), ('японский', 'ADJ'), ('вискарь', 'NOUN'), ('офигительно', 'ADV'), ('крутая', 'ADJ'), ('штука', 'NOUN'), ('сакэ', 'NOUN'), ('норм', 'ADJ'), ('но', 'CCONJ'), ('на', 'ADP'), ('любителя', 'NOUN'), ('правда', 'PART'), ('получше', 'ADJ'), ('корейской', 'ADJ'), ('сётю', 'NOUN'), ('и', 'CCONJ'), ('все', 'PART'), ('равно', 'PART'), ('не', 'PART'), ('могу', 'VERB'), ('понять', 'VERB'), ('в', 'ADP'), ('чем', 'PRON'), ('разница', 'NOUN'), ('между', 'ADP'), ('карри', 'NOUN'), ('и', 'CCONJ'), ('тушенной', 'ADJ'), ('картохой', 'NOUN'), ('кроме', 'ADP'), ('специи', 'NOUN'), ('готовил', 'VERB'), ('и', 'CCONJ'), ('карри', 'NOUN'), ('и', 'CCONJ'), ('якисобу', 'NOUN'), ('и', 'CCONJ'), ('разные', 'ADJ'), ('вариации', 'NOUN'), ('рамена', 'NOUN'), ('омурайсу', 'NOUN'), ('онигири', 'NOUN'), ('кацудон', 'NOUN'), ('нынешняя', 'ADJ'), ('домашняя', 'ADJ'), ('японская', 'ADJ'), ('кухня', 'NOUN'), ('довольно', 'ADV'), ('простая', 'ADJ'), ('и', 'CCONJ'), ('понятная', 'ADJ'), ('всё', 'PRON'), ('делается', 'VERB'), ('из', 'ADP'), ('очень', 'ADV'), ('доступных', 'ADJ'), ('продуктов', 'NOUN'), ('ресторанка', 'NOUN'), ('и', 'CCONJ'), ('фастфуд', 'NOUN'), ('уже', 'ADV'), ('совсем', 'ADV'), ('другая', 'ADJ'), ('песня', 'NOUN')]\n"
          ]
        }
      ]
    },
    {
      "cell_type": "markdown",
      "metadata": {
        "id": "XFI9aI-4b6Hr"
      },
      "source": [
        "Создаем список кортежей для всех теггеров"
      ]
    },
    {
      "cell_type": "markdown",
      "metadata": {
        "id": "bRSD6kLBbEbE"
      },
      "source": [
        "**PyMorphy**"
      ]
    },
    {
      "cell_type": "code",
      "metadata": {
        "id": "VSvdwG9C9KeX"
      },
      "source": [
        "from pymorphy2 import MorphAnalyzer\n",
        "morph = MorphAnalyzer()"
      ],
      "execution_count": 291,
      "outputs": []
    },
    {
      "cell_type": "code",
      "metadata": {
        "colab": {
          "base_uri": "https://localhost:8080/",
          "height": 37
        },
        "id": "V7mOOIVdQ-6d",
        "outputId": "5250a1ac-68e5-4965-edd2-4629c73ad02f"
      },
      "source": [
        "'''\n",
        "unique_words = []\n",
        "for word in words:\n",
        "  if word not in unique_words:\n",
        "    unique_words.append(word)\n",
        "len(unique_words)\n",
        "'''"
      ],
      "execution_count": null,
      "outputs": [
        {
          "output_type": "execute_result",
          "data": {
            "application/vnd.google.colaboratory.intrinsic+json": {
              "type": "string"
            },
            "text/plain": [
              "'\\nunique_words = []\\nfor word in words:\\n  if word not in unique_words:\\n    unique_words.append(word)\\nlen(unique_words)\\n'"
            ]
          },
          "metadata": {},
          "execution_count": 142
        }
      ]
    },
    {
      "cell_type": "code",
      "metadata": {
        "id": "bO45uzfqKYoW"
      },
      "source": [
        "def pymorphy_parse(words_list):\n",
        "  new_list = []\n",
        "  for word in words_list:\n",
        "    p = morph.parse(word)[0]\n",
        "    tag = p.tag.POS\n",
        "    new_list.append((word, convert(tag)))\n",
        "  return new_list"
      ],
      "execution_count": 292,
      "outputs": []
    },
    {
      "cell_type": "markdown",
      "metadata": {
        "id": "zojC6iXibAGk"
      },
      "source": [
        "**Natasha**\n"
      ]
    },
    {
      "cell_type": "code",
      "metadata": {
        "id": "pC5cShKXa-ig"
      },
      "source": [
        "from natasha import NewsMorphTagger, NewsEmbedding, Doc, Segmenter\n",
        "emb = NewsEmbedding()\n",
        "morph_tagger = NewsMorphTagger(emb)\n",
        "segmenter = Segmenter()"
      ],
      "execution_count": 293,
      "outputs": []
    },
    {
      "cell_type": "code",
      "metadata": {
        "id": "yHr35VIPcCMf"
      },
      "source": [
        "def natasha_parse(word_list):\n",
        "  new_list = []\n",
        "  new_text = ' '.join(word_list)\n",
        "  doc = Doc(new_text)\n",
        "  doc.segment(segmenter)\n",
        "  doc.tag_morph(morph_tagger)\n",
        "  #print(doc.tokens)\n",
        "  for elem in doc.tokens:\n",
        "    #print(elem.pos)\n",
        "    tag = elem.pos\n",
        "    word = elem.text\n",
        "    new_list.append((word, tag))\n",
        "  return new_list"
      ],
      "execution_count": 294,
      "outputs": []
    },
    {
      "cell_type": "markdown",
      "metadata": {
        "id": "ste1ihehtHcD"
      },
      "source": [
        "**Stanza**"
      ]
    },
    {
      "cell_type": "code",
      "metadata": {
        "colab": {
          "base_uri": "https://localhost:8080/",
          "height": 129,
          "referenced_widgets": [
            "4758a07c864e4804ace8153b6ba9b5b8",
            "777ca40ed1d445b59de7a1af7a4a82dd",
            "a32e3f624ff544c98668d689977e2695",
            "ca0f8701048240f68aa29926039508fb",
            "1f8cc7b714874ca8a5a2af4b8ae39cec",
            "e649327b7f8942c997844c4f48152cbb",
            "eabfad76a9bc402a8fa345ecbbb5b902",
            "ba0ba4f190c0490e93ef2356fa462f91",
            "9d67f7d13a494550b818ce8274e6882d",
            "e03374d31bf244798b259f35a2bac5d0",
            "4c3453dc3c9d468db295ecd74ec20746"
          ]
        },
        "id": "XcNVG-God6GN",
        "outputId": "b954e62f-4653-46d5-bd1a-6c3e1909e620"
      },
      "source": [
        "import stanza\n",
        "stanza.download('ru')\n"
      ],
      "execution_count": null,
      "outputs": [
        {
          "output_type": "display_data",
          "data": {
            "application/vnd.jupyter.widget-view+json": {
              "model_id": "4758a07c864e4804ace8153b6ba9b5b8",
              "version_minor": 0,
              "version_major": 2
            },
            "text/plain": [
              "Downloading https://raw.githubusercontent.com/stanfordnlp/stanza-resources/main/resources_1.2.2.json:   0%|   …"
            ]
          },
          "metadata": {}
        },
        {
          "output_type": "stream",
          "name": "stderr",
          "text": [
            "2021-10-03 15:26:37 INFO: Downloading default packages for language: ru (Russian)...\n",
            "2021-10-03 15:26:39 INFO: File exists: /root/stanza_resources/ru/default.zip.\n",
            "2021-10-03 15:26:46 INFO: Finished downloading models and saved to /root/stanza_resources.\n"
          ]
        }
      ]
    },
    {
      "cell_type": "code",
      "metadata": {
        "colab": {
          "base_uri": "https://localhost:8080/"
        },
        "id": "_-DDNzq-eVnr",
        "outputId": "bee04a0e-8015-4f18-ec35-f8e11ba51c9d"
      },
      "source": [
        "nlp = stanza.Pipeline(lang='ru', processors='pos, tokenize')\n",
        "def stanza_parse(word_list):\n",
        "  new_list = []\n",
        "  new_text = ' '.join(word_list)  \n",
        "  doc = nlp(new_text)\n",
        "  for sent in doc.sentences:\n",
        "    for word in sent.words:\n",
        "      new_list.append((word.text,word.upos))\n",
        "  return new_list\n",
        "print(stanza_parse(words))"
      ],
      "execution_count": 295,
      "outputs": [
        {
          "output_type": "stream",
          "name": "stderr",
          "text": [
            "2021-10-03 16:52:52 INFO: Loading these models for language: ru (Russian):\n",
            "=========================\n",
            "| Processor | Package   |\n",
            "-------------------------\n",
            "| tokenize  | syntagrus |\n",
            "| pos       | syntagrus |\n",
            "=========================\n",
            "\n",
            "2021-10-03 16:52:52 INFO: Use device: cpu\n",
            "2021-10-03 16:52:52 INFO: Loading: tokenize\n",
            "2021-10-03 16:52:52 INFO: Loading: pos\n",
            "2021-10-03 16:52:53 INFO: Done loading processors!\n"
          ]
        },
        {
          "output_type": "stream",
          "name": "stdout",
          "text": [
            "[('король', 'NOUN'), ('японских', 'ADJ'), ('забегаловок', 'NOUN'), ('прародитель', 'NOUN'), ('доширака', 'NOUN'), ('та', 'DET'), ('самая', 'ADJ'), ('лапша', 'NOUN'), ('из', 'ADP'), ('наруто', 'NOUN'), ('и', 'CCONJ'), ('кучи', 'NOUN'), ('других', 'ADJ'), ('тайтлов', 'NOUN'), ('также', 'ADV'), ('помимо', 'ADP'), ('этого', 'PRON'), ('есть', 'VERB'), ('легенда', 'NOUN'), ('что', 'SCONJ'), ('рамен', 'NOUN'), ('был', 'AUX'), ('ввезен', 'VERB'), ('китайским', 'ADJ'), ('учёным', 'NOUN'), ('чжу', 'NOUN'), ('сунсуи', 'PUNCT'), ('который', 'PRON'), ('был', 'AUX'), ('вынужден', 'VERB'), ('стать', 'VERB'), ('беженцем', 'NOUN'), ('и', 'CCONJ'), ('служил', 'VERB'), ('как', 'SCONJ'), ('советник', 'NOUN'), ('токугаве', 'NOUN'), ('мицукуни', 'NOUN'), ('японскому', 'ADJ'), ('феодальному', 'ADJ'), ('лорду', 'NOUN'), ('часто', 'ADV'), ('используется', 'VERB'), ('темпура', 'NOUN'), ('удон', 'NOUN'), ('и', 'CCONJ'), ('тофу', 'NOUN'), ('кицунэ', 'NOUN'), ('удон', 'NOUN'), ('вдохновением', 'NOUN'), ('для', 'ADP'), ('блюда', 'NOUN'), ('была', 'AUX'), ('другая', 'ADJ'), ('закуска', 'NOUN'), ('акашияки', 'NOUN'), ('которая', 'PRON'), ('готовилась', 'VERB'), ('в', 'ADP'), ('префектуре', 'NOUN'), ('хъёго', 'ADP'), ('городе', 'NOUN'), ('акаши', 'NOUN'), ('и', 'CCONJ'), ('была', 'AUX'), ('сделана', 'VERB'), ('из', 'ADP'), ('яиц', 'NOUN'), ('и', 'CCONJ'), ('осьминога', 'NOUN'), ('первые', 'ADJ'), ('такояки', 'NOUN'), ('содержали', 'VERB'), ('в', 'ADP'), ('себе', 'PRON'), ('конняку', 'NOUN'), ('и', 'CCONJ'), ('говядину', 'NOUN'), ('однако', 'ADV'), ('потом', 'ADV'), ('эндо', 'NOUN'), ('переключился', 'VERB'), ('снова', 'ADV'), ('на', 'ADP'), ('осьминога', 'NOUN'), ('в', 'ADP'), ('начале', 'NOUN'), ('века', 'NOUN'), ('карри', 'NOUN'), ('появилось', 'VERB'), ('в', 'ADP'), ('рационе', 'NOUN'), ('японского', 'ADJ'), ('морского', 'ADJ'), ('флота', 'NOUN'), ('как', 'SCONJ'), ('способ', 'NOUN'), ('борьбы', 'NOUN'), ('с', 'ADP'), ('авитаминозом', 'NOUN'), ('и', 'CCONJ'), ('также', 'ADV'), ('используется', 'VERB'), ('по', 'ADP'), ('сей', 'DET'), ('день', 'NOUN'), ('в', 'ADP'), ('одном', 'NUM'), ('аниме', 'NOUN'), ('есть', 'VERB'), ('серия', 'NOUN'), ('посвящённая', 'VERB'), ('карри', 'NOUN'), ('как', 'SCONJ'), ('раз', 'NOUN'), ('потому', 'ADV'), ('что', 'SCONJ'), ('там', 'ADV'), ('корабледевочки', 'NOUN'), ('вообще', 'ADV'), ('есть', 'VERB'), ('небольшой', 'ADJ'), ('лайфхак', 'NOUN'), ('нужно', 'ADJ'), ('купить', 'VERB'), ('обычное', 'ADJ'), ('порошковое', 'ADJ'), ('карри', 'NOUN'), ('тут', 'ADV'), ('важно', 'ADJ'), ('почитать', 'VERB'), ('состав', 'NOUN'), ('карри', 'NOUN'), ('бывают', 'VERB'), ('разные', 'ADJ'), ('вам', 'PRON'), ('нужен', 'ADJ'), ('тот', 'DET'), ('где', 'ADV'), ('есть', 'VERB'), ('фенугрек', 'NOUN'), ('или', 'CCONJ'), ('фенхель', 'NOUN'), ('или', 'CCONJ'), ('оба', 'NUM'), ('сразу', 'ADV'), ('был', 'AUX'), ('я', 'PRON'), ('значит', 'ADV'), ('в', 'ADP'), ('этой', 'DET'), ('вашей', 'DET'), ('японии', 'NOUN'), ('честно', 'ADV'), ('пытался', 'VERB'), ('схарчевать', 'VERB'), ('там', 'ADV'), ('рамен', 'NOUN'), ('в', 'ADP'), ('обоих', 'NUM'), ('случаях', 'NOUN'), ('оглядываясь', 'VERB'), ('по', 'ADP'), ('сторонам', 'NOUN'), ('я', 'PRON'), ('заметил', 'VERB'), ('что', 'SCONJ'), ('самураи', 'NOUN'), ('уплетали', 'VERB'), ('это', 'DET'), ('явство', 'NOUN'), ('с', 'ADP'), ('явным', 'ADJ'), ('удовольствием', 'NOUN'), ('и', 'CCONJ'), ('причмокиванием', 'NOUN'), ('ну', 'PART'), ('вот', 'PART'), ('приготовление', 'NOUN'), ('якитори', 'NOUN'), ('они', 'PRON'), ('познали', 'VERB'), ('в', 'ADP'), ('совершенстве', 'NOUN'), ('с', 'ADP'), ('этим', 'PRON'), ('не', 'PART'), ('поспоришь', 'VERB'), ('ну', 'PART'), ('и', 'CCONJ'), ('для', 'ADP'), ('взрослых', 'NOUN'), ('конечно', 'ADV'), ('это', 'PRON'), ('японский', 'ADJ'), ('вискарь', 'NOUN'), ('офигительно', 'ADV'), ('крутая', 'ADJ'), ('штука', 'NOUN'), ('сакэ', 'NOUN'), ('норм', 'NOUN'), ('но', 'CCONJ'), ('на', 'ADP'), ('любителя', 'NOUN'), ('правда', 'ADV'), ('получше', 'ADJ'), ('корейской', 'ADJ'), ('сётю', 'NOUN'), ('и', 'CCONJ'), ('все', 'PRON'), ('равно', 'ADJ'), ('не', 'PART'), ('могу', 'VERB'), ('понять', 'VERB'), ('в', 'ADP'), ('чем', 'PRON'), ('разница', 'NOUN'), ('между', 'ADP'), ('карри', 'NOUN'), ('и', 'CCONJ'), ('тушенной', 'ADJ'), ('картохой', 'NOUN'), ('кроме', 'ADP'), ('специи', 'NOUN'), ('готовил', 'VERB'), ('и', 'CCONJ'), ('карри', 'NOUN'), ('и', 'CCONJ'), ('якисобу', 'NOUN'), ('и', 'CCONJ'), ('разные', 'ADJ'), ('вариации', 'NOUN'), ('рамена', 'NOUN'), ('омурайсу', 'VERB'), ('онигири', 'NOUN'), ('кацудон', 'NOUN'), ('нынешняя', 'ADJ'), ('домашняя', 'ADJ'), ('японская', 'ADJ'), ('кухня', 'NOUN'), ('довольно', 'ADV'), ('простая', 'ADJ'), ('и', 'CCONJ'), ('понятная', 'ADJ'), ('всё', 'PRON'), ('делается', 'VERB'), ('из', 'ADP'), ('очень', 'ADV'), ('доступных', 'ADJ'), ('продуктов', 'NOUN'), ('ресторанка', 'NOUN'), ('и', 'CCONJ'), ('фастфуд', 'NOUN'), ('уже', 'ADV'), ('совсем', 'ADV'), ('другая', 'ADJ'), ('песня', 'NOUN')]\n"
          ]
        }
      ]
    },
    {
      "cell_type": "markdown",
      "metadata": {
        "id": "6AtFbmpobgEq"
      },
      "source": [
        "Для приведения всех тегов к общему виду я сделала 4 множества из уникальных тегов для каждого размеченного корпуса и при составлении списка кортежей использовала функцию конвертации."
      ]
    },
    {
      "cell_type": "code",
      "metadata": {
        "id": "tTALbdgdtNYx"
      },
      "source": [
        "def get_unique_pos(word_list):\n",
        "  elems = []\n",
        "  for elem in word_list:\n",
        "    if elem == None:\n",
        "      continue\n",
        "    elems.append(elem[1])\n",
        "  un_set = set(elems)\n",
        "  return un_set"
      ],
      "execution_count": 300,
      "outputs": []
    },
    {
      "cell_type": "code",
      "metadata": {
        "id": "4aUKAqdXuJet"
      },
      "source": [
        "natasha_pos = get_unique_pos(natasha_tags)\n",
        "stanza_pos = get_unique_pos(stanza_tags)\n",
        "pymorphy_pos = get_unique_pos(pymorphy_tags)\n",
        "my_pos = get_unique_pos(my_parse)\n",
        "#print(natasha_pos) \n",
        "#print(stanza_pos)\n",
        "#print( pymorphy_pos)\n",
        "#print( my_pos)\n",
        "#print((pymorphy_pos)-(natasha_pos|stanza_pos))"
      ],
      "execution_count": 350,
      "outputs": []
    },
    {
      "cell_type": "code",
      "metadata": {
        "id": "oEc97K7u8Bo8"
      },
      "source": [
        "def convert(word):\n",
        "  if word == None:\n",
        "    return 'None'\n",
        "  w = word.upper()\n",
        "  dict_uns = { 'NPRO': 'PRON', \n",
        "   'CONJ' : 'CCONJ' ,\n",
        "   'PRCL' : 'PART',\n",
        "  'ADJS' : 'ADJ',\n",
        "   'INFN' : 'VERB',\n",
        "   'NUMR' : 'NUM',\n",
        "   'ADVB' : 'ADV',\n",
        "   'PREP' : 'ADP',\n",
        "   'ADJF' : 'ADJ'\n",
        "  }\n",
        "\n",
        "  if word in dict_uns.keys():\n",
        "    return dict_uns[w]\n",
        "  return w"
      ],
      "execution_count": 309,
      "outputs": []
    },
    {
      "cell_type": "markdown",
      "metadata": {
        "id": "qAOQBc0QcZQD"
      },
      "source": [
        "Далее для каждого получившегося списка считаем accuracy"
      ]
    },
    {
      "cell_type": "code",
      "metadata": {
        "colab": {
          "base_uri": "https://localhost:8080/"
        },
        "id": "79aqvvIA_qPs",
        "outputId": "ee95a99f-c6d4-4840-8994-2376ff5fa813"
      },
      "source": [
        "!pip install sklearn"
      ],
      "execution_count": 279,
      "outputs": [
        {
          "output_type": "stream",
          "name": "stdout",
          "text": [
            "Requirement already satisfied: sklearn in /usr/local/lib/python3.7/dist-packages (0.0)\n",
            "Requirement already satisfied: scikit-learn in /usr/local/lib/python3.7/dist-packages (from sklearn) (0.22.2.post1)\n",
            "Requirement already satisfied: joblib>=0.11 in /usr/local/lib/python3.7/dist-packages (from scikit-learn->sklearn) (1.0.1)\n",
            "Requirement already satisfied: numpy>=1.11.0 in /usr/local/lib/python3.7/dist-packages (from scikit-learn->sklearn) (1.19.5)\n",
            "Requirement already satisfied: scipy>=0.17.0 in /usr/local/lib/python3.7/dist-packages (from scikit-learn->sklearn) (1.4.1)\n"
          ]
        }
      ]
    },
    {
      "cell_type": "code",
      "metadata": {
        "id": "MmnnwsgN_xgx"
      },
      "source": [
        "from sklearn.metrics import accuracy_score"
      ],
      "execution_count": 280,
      "outputs": []
    },
    {
      "cell_type": "code",
      "metadata": {
        "id": "yolsidqkApOC"
      },
      "source": [
        "def get_lists(list_texts):\n",
        "  return [elem[1] for elem in list_texts]"
      ],
      "execution_count": 281,
      "outputs": []
    },
    {
      "cell_type": "code",
      "metadata": {
        "id": "VtE9sHpt_0Pk"
      },
      "source": [
        "def get_accuracy(expected_list, actual_list):\n",
        "  return accuracy_score(expected_list, actual_list)"
      ],
      "execution_count": 284,
      "outputs": []
    },
    {
      "cell_type": "markdown",
      "metadata": {
        "id": "Rli9YFI5cjmn"
      },
      "source": [
        "Здесь **accuracy**, посчитанный для корпуса, размеченного для тэгсета по типу **pymorphy**. Как видим, сам Pymorphy проанализировал лучше всех, при этом Stanza не сильно ему уступает"
      ]
    },
    {
      "cell_type": "code",
      "metadata": {
        "colab": {
          "base_uri": "https://localhost:8080/"
        },
        "id": "dk8ejuGuA1Gm",
        "outputId": "a1e062c0-42a7-4292-a873-0283b8e23792"
      },
      "source": [
        "pymorphy_tags = pymorphy_parse(words)\n",
        "natasha_tags = natasha_parse(words)\n",
        "stanza_tags = stanza_parse(words)\n",
        "my_tags = get_lists(my_parse)\n",
        "nat_my = get_accuracy(my_tags, get_lists(natasha_tags))\n",
        "print(\"Natasha: \", nat_my)\n",
        "py_my = get_accuracy(my_tags, get_lists(pymorphy_tags))\n",
        "print(\"PyMorphy: \", py_my)\n",
        "stan_my = get_accuracy(my_tags, get_lists(stanza_tags))\n",
        "print(\"Stanza: \", stan_my)"
      ],
      "execution_count": 312,
      "outputs": [
        {
          "output_type": "stream",
          "name": "stdout",
          "text": [
            "Natasha:  0.7431906614785992\n",
            "PyMorphy:  0.8715953307392996\n",
            "Stanza:  0.8054474708171206\n"
          ]
        }
      ]
    },
    {
      "cell_type": "markdown",
      "metadata": {
        "id": "Fy1ZXNzedC5Z"
      },
      "source": [
        "Здесь **accuracy**, посчитанный для корпуса, размеченного по тэгсету **universal dependencies**. Stanza здесь отработал лучше всего."
      ]
    },
    {
      "cell_type": "code",
      "metadata": {
        "colab": {
          "base_uri": "https://localhost:8080/"
        },
        "id": "NzYn-EmpakyS",
        "outputId": "3400c985-3074-4b44-8db2-6c48abcb99bd"
      },
      "source": [
        "my_tags2 = get_lists(my_parse2)\n",
        "nat_my2 = get_accuracy(my_tags2, get_lists(natasha_tags))\n",
        "print(\"Natasha: \", nat_my2)\n",
        "py_my2 = get_accuracy(my_tags2, get_lists(pymorphy_tags))\n",
        "print(\"PyMorphy: \", py_my2)\n",
        "stan_my2 = get_accuracy(my_tags2, get_lists(stanza_tags))\n",
        "print(\"Stanza: \", stan_my2)"
      ],
      "execution_count": 346,
      "outputs": [
        {
          "output_type": "stream",
          "name": "stdout",
          "text": [
            "Natasha:  0.7821011673151751\n",
            "PyMorphy:  0.7937743190661478\n",
            "Stanza:  0.8560311284046692\n"
          ]
        }
      ]
    },
    {
      "cell_type": "markdown",
      "metadata": {
        "id": "PZZS5eOLdX_P"
      },
      "source": [
        "Возьмем сначала несколько типов n-грамм для pymorphy, а затем несколько для stanza"
      ]
    },
    {
      "cell_type": "code",
      "metadata": {
        "colab": {
          "base_uri": "https://localhost:8080/"
        },
        "id": "Ab6sl2rqHZkX",
        "outputId": "9e88846f-136e-4737-c909-18b1f62754c1"
      },
      "source": [
        "def chunker(words_list, tags_list):\n",
        "  n = len(tags_list)\n",
        "  res = []\n",
        "  for i in range(len(words_list)-n+1):\n",
        "    suc = True\n",
        "    for j in range(n):    \n",
        "      if words_list[i+j][1] != tags_list[j]:\n",
        "          suc = False\n",
        "          break\n",
        "    if suc:\n",
        "      res.append([elem[0] for elem in words_list[i:i+n]])\n",
        "  return res\n",
        "print(\"Pymorphy: \")\n",
        "print(chunker(pymorphy_tags, ['NOUN', \"ADV\"]) )\n",
        "print(chunker(pymorphy_tags, ['NOUN', \"ADV\", \"VERB\"]))\n",
        "print(chunker(pymorphy_tags, ['ADJ', \"NOUN\"]))\n",
        "print(\"Stanza: \")\n",
        "print(chunker(stanza_tags, ['NOUN', \"ADV\"]) )\n",
        "print(chunker(stanza_tags, ['NOUN', \"ADV\", \"VERB\"]))\n",
        "print(chunker(stanza_tags, ['ADJ', \"NOUN\"]))"
      ],
      "execution_count": 351,
      "outputs": [
        {
          "output_type": "stream",
          "name": "stdout",
          "text": [
            "Pymorphy: \n",
            "[['лорду', 'часто'], ['раз', 'потому'], ['корабледевочки', 'вообще'], ['карри', 'тут'], ['японии', 'честно'], ['кухня', 'довольно'], ['фастфуд', 'уже']]\n",
            "[['лорду', 'часто', 'используется'], ['корабледевочки', 'вообще', 'есть'], ['японии', 'честно', 'пытался']]\n",
            "[['японских', 'забегаловок'], ['самая', 'лапша'], ['других', 'тайтлов'], ['китайским', 'учёным'], ['феодальному', 'лорду'], ['другая', 'закуска'], ['первые', 'такояки'], ['морского', 'флота'], ['сей', 'день'], ['одном', 'аниме'], ['небольшой', 'лайфхак'], ['порошковое', 'карри'], ['вашей', 'японии'], ['явным', 'удовольствием'], ['крутая', 'штука'], ['корейской', 'сётю'], ['разные', 'вариации'], ['японская', 'кухня'], ['доступных', 'продуктов'], ['другая', 'песня']]\n",
            "Stanza: \n",
            "[['тайтлов', 'также'], ['лорду', 'часто'], ['говядину', 'однако'], ['раз', 'потому'], ['корабледевочки', 'вообще'], ['карри', 'тут'], ['японии', 'честно'], ['взрослых', 'конечно'], ['вискарь', 'офигительно'], ['любителя', 'правда'], ['кухня', 'довольно'], ['фастфуд', 'уже']]\n",
            "[['лорду', 'часто', 'используется'], ['корабледевочки', 'вообще', 'есть'], ['японии', 'честно', 'пытался']]\n",
            "[['японских', 'забегаловок'], ['самая', 'лапша'], ['других', 'тайтлов'], ['китайским', 'учёным'], ['феодальному', 'лорду'], ['другая', 'закуска'], ['первые', 'такояки'], ['морского', 'флота'], ['небольшой', 'лайфхак'], ['порошковое', 'карри'], ['явным', 'удовольствием'], ['японский', 'вискарь'], ['крутая', 'штука'], ['корейской', 'сётю'], ['тушенной', 'картохой'], ['разные', 'вариации'], ['японская', 'кухня'], ['доступных', 'продуктов'], ['другая', 'песня']]\n"
          ]
        }
      ]
    },
    {
      "cell_type": "markdown",
      "metadata": {
        "id": "F1Ptu7jYe7YB"
      },
      "source": [
        "Про прошлую домашку:\n",
        "\n",
        "Думаю, что качество улучшили бы шаблоны:\n",
        "\n",
        "*   \"ADV\" + \"NOUN\" -  очень хорошая\n",
        "*   \"ADJ\" + \"NOUN\" -  хорошая маска\n",
        "*   \"не\" + \"VERB\" -  не понравилась\n",
        "\n",
        "Люди часто употребляют слова очень хорошая/плохая/красивая и т.д., когда пишут отзывы, особенно в сочетании с наречием. Скорее это будет чаще встречаться у положительных отзывов, поскольку к плохи вещам зачастую люди оставляют более эксперссивные отзывы (ужасный, отвратительный). Второй шаблон нужен для того, чтобы определить значение прилагательного. Так, например, в положительных отзывах мы скорее встретим отличная маска, приятный аромат, а в отрицательных ужасный запах. Третий шаблон будет нам помогать для выявления хороших и плохих словосочетаний со словом не. Обычно люди пишут, что им что-то не нравится, но иногда не вносит наоборот положительную окраску - не прогадала.\n",
        "\n"
      ]
    },
    {
      "cell_type": "markdown",
      "metadata": {
        "id": "I5LRnqO539qJ"
      },
      "source": [
        "Ниже код из прошлой домашки + немного добавление от меня для поиска биграмм по определенным шаблонам (простите за не лучший код)"
      ]
    },
    {
      "cell_type": "code",
      "metadata": {
        "colab": {
          "base_uri": "https://localhost:8080/"
        },
        "id": "79OwY8ZsiXeF",
        "outputId": "a4796434-10d2-46c5-e36a-93850219a247"
      },
      "source": [
        "import operator, csv\n",
        "import random\n",
        "import nltk\n",
        "from nltk.tokenize import word_tokenize\n",
        "nltk.download(\"punkt\")\n",
        "nltk.download('stopwords')\n",
        "from nltk.corpus import stopwords\n",
        "from pymorphy2 import MorphAnalyzer\n",
        "morph = MorphAnalyzer()\n",
        "def get_sorted():\n",
        "  with open('revs.csv') as csvfile:\n",
        "    reader = csv.reader(csvfile, delimiter=';')\n",
        "    for row in reader:\n",
        "      sortedlist = sorted(reader, key=operator.itemgetter(0), reverse=True)\n",
        "  return sortedlist\n"
      ],
      "execution_count": 352,
      "outputs": [
        {
          "output_type": "stream",
          "name": "stdout",
          "text": [
            "[nltk_data] Downloading package punkt to /root/nltk_data...\n",
            "[nltk_data]   Package punkt is already up-to-date!\n",
            "[nltk_data] Downloading package stopwords to /root/nltk_data...\n",
            "[nltk_data]   Unzipping corpora/stopwords.zip.\n"
          ]
        }
      ]
    },
    {
      "cell_type": "code",
      "metadata": {
        "id": "ekb7EPv3iofy"
      },
      "source": [
        "\n",
        "def norm_token_review(review):\n",
        "  result = []\n",
        "  words = [w.lower() for w in word_tokenize(review) if w.isalpha()]\n",
        "  for word in words:\n",
        "      result.append(morph.parse(word)[0].normal_form) \n",
        "  return result\n",
        "\n",
        "def tokenize_normalize(list_revs):\n",
        "  trueforms = []\n",
        "  for item in list_revs:\n",
        "    words = norm_token_review(item[1])\n",
        "    trueforms.append([item[0], words])\n",
        "  return trueforms"
      ],
      "execution_count": 353,
      "outputs": []
    },
    {
      "cell_type": "code",
      "metadata": {
        "id": "3NVc5X5Vis49"
      },
      "source": [
        "def almost_true():\n",
        "  truelist=tokenize_normalize(get_sorted())\n",
        "  tryy = []\n",
        "  almost_good = truelist[:40]\n",
        "  reversee = truelist[::-1]\n",
        "  alm_bad = reversee[:40]\n",
        "  return almost_good, alm_bad"
      ],
      "execution_count": 354,
      "outputs": []
    },
    {
      "cell_type": "code",
      "metadata": {
        "id": "9-7cRzcCiw3d"
      },
      "source": [
        "v1, v2 = almost_true()"
      ],
      "execution_count": 355,
      "outputs": []
    },
    {
      "cell_type": "code",
      "metadata": {
        "id": "Ot85j9OEvmIF"
      },
      "source": [
        "v2"
      ],
      "execution_count": null,
      "outputs": []
    },
    {
      "cell_type": "code",
      "metadata": {
        "id": "LL1TUyINjPCb"
      },
      "source": [
        "def get_str(w_list):\n",
        "  words_list = []\n",
        "  words2 = ''\n",
        "  for elem in w_list:\n",
        "    words2 += ' '.join(elem[1])+ \" \"\n",
        "  return words2\n"
      ],
      "execution_count": 383,
      "outputs": []
    },
    {
      "cell_type": "code",
      "metadata": {
        "id": "B9rMMSxWoLPj"
      },
      "source": [
        "def chunker_words(revss):\n",
        "  res = []\n",
        "  for i in range(len(revss)-1):    \n",
        "    if revss[i][0] == \"не\" and revss[i+1][1] == \"VERB\":\n",
        "      res.append(revss[i][0]+\" \"+revss[i+1][0])\n",
        "  return res"
      ],
      "execution_count": 390,
      "outputs": []
    },
    {
      "cell_type": "markdown",
      "metadata": {
        "id": "jjZevGGW5MIf"
      },
      "source": [
        "создаю списки по шаблонам"
      ]
    },
    {
      "cell_type": "code",
      "metadata": {
        "colab": {
          "base_uri": "https://localhost:8080/"
        },
        "id": "Pr2Bh9JIrgic",
        "outputId": "141bd8a0-77f5-42f8-e971-d45b390b3f5d"
      },
      "source": [
        "revs_parse_plus = stanza_parse([get_str(v1)])\n",
        "revs_parse_minus = stanza_parse([get_str(v2)])\n",
        "\n",
        "pos_a_n = chunker(revs_parse_plus, ['ADV', \"NOUN\"])\n",
        "pos_adj_n = chunker(revs_parse_plus, ['ADJ', \"NOUN\"])\n",
        "pos_ne = chunker_words(revs_parse_plus)\n",
        "\n",
        "neg_a_n = chunker(revs_parse_minus, ['ADV', \"NOUN\"])\n",
        "neg_adj_n = chunker(revs_parse_minus, ['ADJ', \"NOUN\"])\n",
        "neg_ne = chunker_words(revs_parse_minus)\n",
        "print(neg_ne)"
      ],
      "execution_count": 411,
      "outputs": [
        {
          "output_type": "stream",
          "name": "stdout",
          "text": [
            "['не получить', 'не заметить', 'не быть', 'не купить', 'не тратить', 'не заметить', 'не очищать', 'не вытягивать', 'не понравиться', 'не купить', 'не вытягивать', 'не разглаживать', 'не выдержать', 'не быть', 'не делать', 'не стоить', 'не отставать', 'не выйти', 'не советовать', 'не советовать', 'не любить', 'не очистить', 'не стать', 'не советовать', 'не понравиться', 'не рекомендовать', 'не ложиться', 'не делать', 'не рекомендовать', 'не понравиться', 'не понравиться', 'не совпадать', 'не подойти', 'не хотеть', 'не знать', 'не подойти', 'не стать', 'не иметь', 'не увидеть', 'не быть', 'не говорить', 'не заметить', 'не взять', 'не заметить', 'не купить', 'не заметить', 'не знать', 'не увидеть', 'не понравиться', 'не поравиться', 'не измениться', 'не ошибаться', 'не отваливаться', 'не сказать', 'не мочь', 'не заметить', 'не иметь', 'не пахнуть']\n"
          ]
        }
      ]
    },
    {
      "cell_type": "markdown",
      "metadata": {
        "id": "7hpSCStB5Tmv"
      },
      "source": [
        "Делаю из списков множество"
      ]
    },
    {
      "cell_type": "code",
      "metadata": {
        "id": "7RNY3DgTvFbO"
      },
      "source": [
        "def get_sets(set1,set2, set3):\n",
        "  bigs_n = set1+set2\n",
        "  bigs_all_neg = []\n",
        "  for elem in bigs_n:\n",
        "    if type(elem) == list:\n",
        "      new_elem = ' '.join(elem)\n",
        "      bigs_all_neg.append(new_elem)\n",
        "  neg_set = set(bigs_all_neg + set3)\n",
        "  return neg_set\n",
        "pos_set = get_sets(pos_a_n, pos_adj_n, pos_ne)\n",
        "neg_set = get_sets(neg_a_n, neg_adj_n, neg_ne)"
      ],
      "execution_count": 445,
      "outputs": []
    },
    {
      "cell_type": "markdown",
      "metadata": {
        "id": "IWm1zdb500oT"
      },
      "source": [
        "Здесь я получила два множества - хороших биграмм и плохих"
      ]
    },
    {
      "cell_type": "code",
      "metadata": {
        "colab": {
          "base_uri": "https://localhost:8080/"
        },
        "id": "NJFCeG1iwVQm",
        "outputId": "ef4e83ce-75bb-4628-c41f-f4b2b88b2c3e"
      },
      "source": [
        "good_set = pos_set - neg_set\n",
        "bad_set = neg_set - pos_set\n",
        "good_set, bad_set"
      ],
      "execution_count": 446,
      "outputs": [
        {
          "output_type": "execute_result",
          "data": {
            "text/plain": [
              "({'альгинатный маска',\n",
              "  'большой счёт',\n",
              "  'включая лицо',\n",
              "  'внешний сторона',\n",
              "  'воздушный текстура',\n",
              "  'гладкий кожа',\n",
              "  'густой сыворотка',\n",
              "  'ещё раз',\n",
              "  'жёлтый кувшинка',\n",
              "  'кдивительный морщина',\n",
              "  'конечно эффект',\n",
              "  'корейский косметология',\n",
              "  'крутой маска',\n",
              "  'лекарственный гриб',\n",
              "  'лёгкий массаж',\n",
              "  'много пропитка',\n",
              "  'много сыворотка',\n",
              "  'много эссенуий',\n",
              "  'много эссенция',\n",
              "  'не вызвать',\n",
              "  'не давать',\n",
              "  'не жечь',\n",
              "  'не оставлять',\n",
              "  'не разгладить',\n",
              "  'не раздражать',\n",
              "  'не смывать',\n",
              "  'не сползать',\n",
              "  'не стекать',\n",
              "  'не сфотографировать',\n",
              "  'не щипит',\n",
              "  'нежный аромат',\n",
              "  'отличный маска',\n",
              "  'отличный серия',\n",
              "  'офигенный ощущение',\n",
              "  'первый раз',\n",
              "  'положительный эмоция',\n",
              "  'прикольный маска',\n",
              "  'приятно центелла',\n",
              "  'приятный маска',\n",
              "  'приятный масочок',\n",
              "  'проблемный кожа',\n",
              "  'прохладноц вода',\n",
              "  'рабочий неделя',\n",
              "  'роскошный эффект',\n",
              "  'склизкий консистенция',\n",
              "  'специальный средство',\n",
              "  'столовый ложка',\n",
              "  'суперскай маска',\n",
              "  'сухой последствие',\n",
              "  'тканевый основа',\n",
              "  'тёмный круг',\n",
              "  'уходовой процедура',\n",
              "  'хлорошо кожа',\n",
              "  'хороший масочок',\n",
              "  'хороший патч',\n",
              "  'хороший работа',\n",
              "  'ццелое маска'},\n",
              " {'абсолютно спирт',\n",
              "  'активный применение',\n",
              "  'аллергический реакция',\n",
              "  'аллергичный запах',\n",
              "  'белорусский маска',\n",
              "  'бестолковый вещь',\n",
              "  'бешеный запах',\n",
              "  'боле очищение',\n",
              "  'больший поклонница',\n",
              "  'большой грязь',\n",
              "  'большой объём',\n",
              "  'бюджетный стоимость',\n",
              "  'вау эффект',\n",
              "  'верхний слой',\n",
              "  'возможно реакция',\n",
              "  'вообще продукт',\n",
              "  'второй часть',\n",
              "  'глубокий эффект',\n",
              "  'грязевый маска',\n",
              "  'данный марка',\n",
              "  'данный продукт',\n",
              "  'дикий аллергия',\n",
              "  'добротный слой',\n",
              "  'другой пр',\n",
              "  'другой раз',\n",
              "  'другой серия',\n",
              "  'единственный плюс',\n",
              "  'затем пощипывание',\n",
              "  'комби кожа',\n",
              "  'корейский маска',\n",
              "  'красный пятно',\n",
              "  'лакмусовый бумажка',\n",
              "  'ледяной вода',\n",
              "  'лёгкий дискомфорт',\n",
              "  'мгновенный аллергия',\n",
              "  'мелкий волосок',\n",
              "  'много жидкость',\n",
              "  'много средство',\n",
              "  'молодой кожа',\n",
              "  'мочь маска',\n",
              "  'не взять',\n",
              "  'не выдержать',\n",
              "  'не выйти',\n",
              "  'не вытягивать',\n",
              "  'не говорить',\n",
              "  'не делать',\n",
              "  'не заметить',\n",
              "  'не знать',\n",
              "  'не измениться',\n",
              "  'не иметь',\n",
              "  'не купить',\n",
              "  'не ложиться',\n",
              "  'не любить',\n",
              "  'не мочь',\n",
              "  'не отваливаться',\n",
              "  'не отставать',\n",
              "  'не очистить',\n",
              "  'не очищать',\n",
              "  'не ошибаться',\n",
              "  'не пахнуть',\n",
              "  'не подойти',\n",
              "  'не получить',\n",
              "  'не понравиться',\n",
              "  'не поравиться',\n",
              "  'не разглаживать',\n",
              "  'не рекомендовать',\n",
              "  'не сказать',\n",
              "  'не советовать',\n",
              "  'не совпадать',\n",
              "  'не стать',\n",
              "  'не тратить',\n",
              "  'не увидеть',\n",
              "  'не хотеть',\n",
              "  'недавний время',\n",
              "  'нейтральный сыворотка',\n",
              "  'немного печь',\n",
              "  'неприятный ощущение',\n",
              "  'новый продукт',\n",
              "  'нужно увлажнение',\n",
              "  'обычный глина',\n",
              "  'обычный крем',\n",
              "  'обычный тюбик',\n",
              "  'огромный разочарование',\n",
              "  'особенный увлажнение',\n",
              "  'особый эффект',\n",
              "  'остальной ужас',\n",
              "  'отвратительный маска',\n",
              "  'первый маска',\n",
              "  'первый применение',\n",
              "  'плохой желе',\n",
              "  'положительный эффект',\n",
              "  'понятно маска',\n",
              "  'прозрачный баночка',\n",
              "  'противный лицо',\n",
              "  'прохладный вода',\n",
              "  'равномерный слой',\n",
              "  'ровный счёт',\n",
              "  'сам дорога',\n",
              "  'сам маска',\n",
              "  'сам полотно',\n",
              "  'сложно пятно',\n",
              "  'советский крем',\n",
              "  'сплошной разочарование',\n",
              "  'спорный продукт',\n",
              "  'странный впечатление',\n",
              "  'так маска',\n",
              "  'также маска',\n",
              "  'тихий ужас',\n",
              "  'тут перебор',\n",
              "  'ужасный запах',\n",
              "  'ужасный маска',\n",
              "  'ужасный раздражение',\n",
              "  'хороший увлажнение',\n",
              "  'целое маска',\n",
              "  'чистый вид'})"
            ]
          },
          "metadata": {},
          "execution_count": 446
        }
      ]
    },
    {
      "cell_type": "markdown",
      "metadata": {
        "id": "zuJhdx3_5YwV"
      },
      "source": [
        "Узнаем, хороший отзыв или плохой. True - отзыв положительный (оценка 5 или 4), False - отрицательный (все остальные оценки). А также подсчет качества модели"
      ]
    },
    {
      "cell_type": "code",
      "metadata": {
        "id": "apUbwiTZwh-e"
      },
      "source": [
        "def is_good_review(review, good_set, bad_set):\n",
        "  norm_rev = norm_token_review(review)\n",
        "  revs_parse = stanza_parse(norm_rev)\n",
        "  a_n = chunker(revs_parse, ['ADV', \"NOUN\"])\n",
        "  adj_n = chunker(revs_parse, ['ADJ', \"NOUN\"])\n",
        "  ne = chunker_words(revs_parse)\n",
        "  n_set = get_sets(a_n, adj_n, ne)\n",
        "  #print(n_set)\n",
        "  is_good = n_set & good_set\n",
        "  is_bad = n_set & bad_set\n",
        "  if len(is_good) >= len(is_bad):\n",
        "    return True\n",
        "  else:\n",
        "    return False"
      ],
      "execution_count": 447,
      "outputs": []
    },
    {
      "cell_type": "code",
      "metadata": {
        "colab": {
          "base_uri": "https://localhost:8080/"
        },
        "id": "thVTxtOzw67J",
        "outputId": "7b30b1ec-41a5-4c6a-bc1a-0aa68a7af410"
      },
      "source": [
        "y_pred = []\n",
        "y_true = []\n",
        "reviews = [['5', 'Хороший уход. Хорошо увлажняет и питает кожу. Работает ночью, пользуюсь маской почти месяц.'], ['4', 'Маска с пудрой винограда и розы, и кембрийской глиной. Просто добавь воды. :)'], ['3', 'Странная маска, которая делает кожу лица только хуже, но прекрасно работает в качестве скраба для тела. Неожиданный поворот!'], ['2', 'Маска из разряда \"ни о чем\". Бессмысленный продукт.'], ['2', 'Бесполезный продукт с сильным запахом. Думаю, не для сухой кожи его делали. Скорее для жирной подойдет, чтоб подсушить ее.'], ['5', 'Приятная маска, не обещает волшебства и полностью справляется с заявленными функциями.'], ['5', 'Очень-очень приятное знакомство!) Средства с классным запах и к тому же реально работающие.'], ['3', 'Маска оказалась для меня практически бесполезной.'], ['1', 'Маска, когда наносишь на лицо жжёт, ужасный запах, как будто покрышка горит, плохой состав, снимается, грубо говоря с кожей.'], ['5', 'Отличные маски!В упаковке было 40 штук - 10 штук было в подарок! Эффект мне нравится - успокаивает кожу, снимает раздражения и красноту. Использую вечером на ночь, липкости нет, утром кожа приятная, мягкая.Японское качество, что тут скажешь']]\n",
        "for rnd in reviews:\n",
        "  review = rnd[1]\n",
        "  score = rnd[0]\n",
        "  y_true.append(int(score) > 3)\n",
        "  y_pred.append(is_good_review(review, good_set, bad_set))\n",
        "print(y_true)\n",
        "print(y_pred)\n",
        "accuracy_score(y_true, y_pred)"
      ],
      "execution_count": 448,
      "outputs": [
        {
          "output_type": "stream",
          "name": "stdout",
          "text": [
            "[True, True, False, False, False, True, True, False, False, True]\n",
            "[True, True, True, True, True, True, True, True, False, True]\n"
          ]
        },
        {
          "output_type": "execute_result",
          "data": {
            "text/plain": [
              "0.6"
            ]
          },
          "metadata": {},
          "execution_count": 448
        }
      ]
    },
    {
      "cell_type": "markdown",
      "metadata": {
        "id": "JbO88EnJ2MQt"
      },
      "source": [
        "при внедрении в программу биграмм accuracy стала ниже. До этого было 0.8, сейчас стала 0.6. Вполне возиожно, что это из-за того, что тест проводился на маленьком объеме данных. Попробуем провести на тех же данных, что и в прошлой домашке\n"
      ]
    },
    {
      "cell_type": "code",
      "metadata": {
        "colab": {
          "base_uri": "https://localhost:8080/"
        },
        "id": "oUXxn5cU2m1T",
        "outputId": "5d58cfd9-e45c-4804-e59a-a303a76e79d0"
      },
      "source": [
        "y_pred1 = []\n",
        "y_true1 = []\n",
        "reviews = get_sorted()\n",
        "for i in range (100):\n",
        "  rnd = random.choice(reviews)\n",
        "  review = rnd[1]\n",
        "  score = rnd[0]\n",
        "  y_true1.append(int(score) > 3)\n",
        "  y_pred1.append(is_good_review(review, good_set, bad_set))\n",
        "print(y_true1)\n",
        "print(y_pred1)\n",
        "accuracy_score(y_true1, y_pred1)"
      ],
      "execution_count": 449,
      "outputs": [
        {
          "output_type": "stream",
          "name": "stdout",
          "text": [
            "[True, False, False, True, True, True, True, True, True, True, True, True, True, False, True, True, True, True, True, False, True, True, True, False, False, True, True, True, True, True, True, True, True, True, True, True, True, True, True, True, True, True, True, False, True, True, True, True, True, True, True, True, False, True, True, True, True, True, True, True, True, False, True, True, True, True, True, True, True, True, True, True, True, True, True, False, False, True, True, True, True, True, False, True, True, True, True, True, True, True, True, True, True, True, True, True, True, True, False, True]\n",
            "[True, False, False, True, True, True, True, True, True, True, True, True, True, True, True, False, True, False, True, True, True, True, True, False, True, True, True, True, True, True, True, True, True, False, True, True, True, True, True, True, True, True, True, False, True, False, True, True, True, True, True, True, False, True, True, False, False, False, True, True, True, False, True, True, True, True, True, True, False, True, True, False, True, True, True, False, False, True, True, True, True, True, False, False, True, True, True, True, True, False, True, True, False, True, True, True, True, True, False, True]\n"
          ]
        },
        {
          "output_type": "execute_result",
          "data": {
            "text/plain": [
              "0.85"
            ]
          },
          "metadata": {},
          "execution_count": 449
        }
      ]
    },
    {
      "cell_type": "markdown",
      "metadata": {
        "id": "Q6c8X57y3sKq"
      },
      "source": [
        "Accuracy стал выше - с 0.8 до 0.85, на некоторых данных доходил до 0.86"
      ]
    },
    {
      "cell_type": "code",
      "metadata": {
        "id": "ZXs6ehJc31mK"
      },
      "source": [
        ""
      ],
      "execution_count": null,
      "outputs": []
    }
  ]
}