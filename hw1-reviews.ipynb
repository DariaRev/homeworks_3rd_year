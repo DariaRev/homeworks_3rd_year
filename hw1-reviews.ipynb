{
  "nbformat": 4,
  "nbformat_minor": 0,
  "metadata": {
    "colab": {
      "name": "reviews.ipynb",
      "provenance": [],
      "collapsed_sections": []
    },
    "kernelspec": {
      "display_name": "Python 3",
      "name": "python3"
    },
    "language_info": {
      "name": "python"
    }
  },
  "cells": [
    {
      "cell_type": "markdown",
      "metadata": {
        "id": "XzX6hTDeV7c0"
      },
      "source": [
        "Парсинг отзывов, всего спаршено более 1000 отзывов. Результат - csv файл, где первая колонка - количество звезд, вторая - текст отзыва"
      ]
    },
    {
      "cell_type": "code",
      "metadata": {
        "id": "2UXW7ttcZgRI"
      },
      "source": [
        "import requests, csv\n",
        "from bs4 import BeautifulSoup\n",
        "import re\n",
        "\n",
        "URL = \"https://beloris.ru/comment/type/kupit-maska-dlya-litsa\"\n",
        "HEADERS = {'user-agent': 'Mozilla/5.0 (Macintosh; Intel Mac OS X 10_15_1) AppleWebKit/537.36 (KHTML, like Gecko) Chrome/79.0.3945.130 Safari/537.36', 'accept': '*/*'}\n",
        "HOST = \"https://beloris.ru/\"\n",
        "FILE = \"revs.csv\"\n",
        "\n",
        "def get_html(url, params = None):\n",
        "    r = requests.get(url, headers = HEADERS, params = params)\n",
        "    return r\n",
        "\n",
        "def get_content(html):\n",
        "    soup = BeautifulSoup(html, 'html.parser')\n",
        "    items = soup.find_all(\"div\", class_ = \"opinion-product\")\n",
        "    reviews =[]\n",
        "    for item in items:\n",
        "        for i in range(1,6):\n",
        "            class_rev = 'product-review is-rating-' + str(i)\n",
        "            #print(class_rev)\n",
        "            score = item.find('div', class_= class_rev)\n",
        "            if score != None:\n",
        "              break\n",
        "        review = item.find('div', class_='opinion-product__text').find('div').get_text(strip=True)\n",
        "        reviews.append({\n",
        "            'score': i,\n",
        "            'review': review\n",
        "        })\n",
        "\n",
        "    return reviews\n",
        "\n",
        "def save_file(items, path):\n",
        "    with open (path, 'w', newline = '') as f:\n",
        "        writer = csv.writer(f, delimiter = ';')\n",
        "        writer.writerow(['Оценка','Отзыв'])\n",
        "        for item in items:\n",
        "            writer.writerow([item['score'],item['review']])\n",
        "\n",
        "\n",
        "def parse():\n",
        "    html = get_html(URL)\n",
        "    if html.status_code == 200:\n",
        "        reviews = []\n",
        "        reviews.extend(get_content(html.text))\n",
        "        print(reviews)\n",
        "        for page in range(1, 90):\n",
        "            print('Парсинг страницы', page)\n",
        "            html = get_html(URL, params={'page': page})\n",
        "            p=get_content(html.text)\n",
        "            reviews.extend(p)\n",
        "        print(reviews)\n",
        "        save_file(reviews, FILE)\n",
        "    else:\n",
        "        print('Error')\n",
        "\n",
        "\n",
        "parse()"
      ],
      "execution_count": null,
      "outputs": []
    },
    {
      "cell_type": "markdown",
      "metadata": {
        "id": "LC1YxNNtVPe5"
      },
      "source": [
        "Сортировка отзывов по рейтингу"
      ]
    },
    {
      "cell_type": "code",
      "metadata": {
        "id": "SenANErkdHPs"
      },
      "source": [
        "import operator, csv\n",
        "import random\n",
        "def get_sorted():\n",
        "  with open('revs.csv') as csvfile:\n",
        "    reader = csv.reader(csvfile, delimiter=';')\n",
        "    for row in reader:\n",
        "      sortedlist = sorted(reader, key=operator.itemgetter(0), reverse=True)\n",
        "  return sortedlist"
      ],
      "execution_count": 125,
      "outputs": []
    },
    {
      "cell_type": "markdown",
      "metadata": {
        "id": "v3v00AapWHn-"
      },
      "source": [
        "Доп библиотеки"
      ]
    },
    {
      "cell_type": "code",
      "metadata": {
        "colab": {
          "base_uri": "https://localhost:8080/"
        },
        "id": "Zej-DugymJ--",
        "outputId": "d8224cad-8472-4e6a-e9bf-431285966676"
      },
      "source": [
        "! pip install pymorphy2\n",
        "! pip install sklearn\n",
        "import nltk\n",
        "from nltk.tokenize import word_tokenize\n",
        "nltk.download(\"punkt\")\n",
        "nltk.download('stopwords')\n",
        "from nltk.corpus import stopwords\n",
        "from pymorphy2 import MorphAnalyzer\n",
        "morph = MorphAnalyzer()\n",
        "from sklearn.metrics import accuracy_score"
      ],
      "execution_count": 126,
      "outputs": [
        {
          "output_type": "stream",
          "name": "stdout",
          "text": [
            "Requirement already satisfied: pymorphy2 in /usr/local/lib/python3.7/dist-packages (0.9.1)\n",
            "Requirement already satisfied: docopt>=0.6 in /usr/local/lib/python3.7/dist-packages (from pymorphy2) (0.6.2)\n",
            "Requirement already satisfied: dawg-python>=0.7.1 in /usr/local/lib/python3.7/dist-packages (from pymorphy2) (0.7.2)\n",
            "Requirement already satisfied: pymorphy2-dicts-ru<3.0,>=2.4 in /usr/local/lib/python3.7/dist-packages (from pymorphy2) (2.4.417127.4579844)\n",
            "Requirement already satisfied: sklearn in /usr/local/lib/python3.7/dist-packages (0.0)\n",
            "Requirement already satisfied: scikit-learn in /usr/local/lib/python3.7/dist-packages (from sklearn) (0.22.2.post1)\n",
            "Requirement already satisfied: joblib>=0.11 in /usr/local/lib/python3.7/dist-packages (from scikit-learn->sklearn) (1.0.1)\n",
            "Requirement already satisfied: numpy>=1.11.0 in /usr/local/lib/python3.7/dist-packages (from scikit-learn->sklearn) (1.19.5)\n",
            "Requirement already satisfied: scipy>=0.17.0 in /usr/local/lib/python3.7/dist-packages (from scikit-learn->sklearn) (1.4.1)\n",
            "[nltk_data] Downloading package punkt to /root/nltk_data...\n",
            "[nltk_data]   Package punkt is already up-to-date!\n",
            "[nltk_data] Downloading package stopwords to /root/nltk_data...\n",
            "[nltk_data]   Package stopwords is already up-to-date!\n"
          ]
        }
      ]
    },
    {
      "cell_type": "markdown",
      "metadata": {
        "id": "LBZOAI5XWLn0"
      },
      "source": [
        "Токенизация слов, приведение их к нижнему регистру и постановка в начальную форму"
      ]
    },
    {
      "cell_type": "code",
      "metadata": {
        "id": "5aCGELPNoNT1"
      },
      "source": [
        "def norm_token_review(review):\n",
        "  result = []\n",
        "  words = [w.lower() for w in word_tokenize(review) if w.isalpha()]\n",
        "  for word in words:\n",
        "      result.append(morph.parse(word)[0].normal_form) \n",
        "  return result\n",
        "\n",
        "def tokenize_normalize(list_revs):\n",
        "  trueforms = []\n",
        "  for item in list_revs:\n",
        "    words = norm_token_review(item[1])\n",
        "    trueforms.append([item[0], words])\n",
        "  return trueforms"
      ],
      "execution_count": 127,
      "outputs": []
    },
    {
      "cell_type": "markdown",
      "metadata": {
        "id": "bINEZdyMWefT"
      },
      "source": [
        "Из отсортированного и преобразованного списка берутся первые 40 элементов (положительных отзывов) и последние 40 элементов (отрицательных отзывов). На выходе - кортеж из двух списков"
      ]
    },
    {
      "cell_type": "code",
      "metadata": {
        "id": "UHRgcmrDEjzn"
      },
      "source": [
        "def almost_true():\n",
        "  truelist=tokenize_normalize(get_sorted())\n",
        "  tryy = []\n",
        "  almost_good = truelist[:40]\n",
        "  reversee = truelist[::-1]\n",
        "  alm_bad = reversee[:40]\n",
        "  return almost_good, alm_bad"
      ],
      "execution_count": 128,
      "outputs": []
    },
    {
      "cell_type": "markdown",
      "metadata": {
        "id": "_vCqFfscWy-K"
      },
      "source": [
        "Составление частотного словаря, удаление из него элементов, у которых частота употребления меньше 4, преобразование словаря в список. В итоге получаются два списка - один для слов из положительных отзывов, другой - наоборот"
      ]
    },
    {
      "cell_type": "code",
      "metadata": {
        "colab": {
          "base_uri": "https://localhost:8080/"
        },
        "id": "rbbfKUMR5Mht",
        "outputId": "9eec868f-a948-40e4-faed-088978b89912"
      },
      "source": [
        "import collections\n",
        "def get_freqs(list_name):\n",
        "  sw = stopwords.words('russian')\n",
        "  new_list = []\n",
        "  freq = {}\n",
        "  for review in list_name:\n",
        "    new_list.extend(review[1])\n",
        "  filter = [word for word in new_list if word not in sw]\n",
        "  #print(filter)\n",
        "  for word in filter:\n",
        "    if word in freq:\n",
        "        freq[word] += 1\n",
        "    else:  \n",
        "        freq[word] = 1\n",
        "  return freq\n",
        "\n",
        "def del_somefreqs(freq, min_freq = 4):\n",
        "  new_freq = {}\n",
        "  #print(freq)\n",
        "  for key, value in freq.items():\n",
        "    if value >= min_freq:\n",
        "      new_freq[key] = value\n",
        "  return new_freq \n",
        "\n",
        "def freq_words(freq):\n",
        "  freq_list=[]\n",
        "  for k in sorted(freq, key = freq.get, reverse = True):\n",
        "    freq_list.append(k)\n",
        "  return freq_list\n",
        "  \n",
        "v1, v2 = almost_true()\n",
        "#print(good_words)\n",
        "good_freqs = get_freqs(v1)\n",
        "good_words = freq_words(del_somefreqs(good_freqs, 3))\n",
        "bad_freqs = get_freqs(v2)\n",
        "bad_words = freq_words(del_somefreqs(bad_freqs))\n",
        "good_words, bad_words"
      ],
      "execution_count": 129,
      "outputs": [
        {
          "output_type": "execute_result",
          "data": {
            "text/plain": [
              "(['маска',\n",
              "  'кожа',\n",
              "  'очень',\n",
              "  'лицо',\n",
              "  'хороший',\n",
              "  'отличный',\n",
              "  'увлажнять',\n",
              "  'патч',\n",
              "  'пахнуть',\n",
              "  'понравиться',\n",
              "  'тканевый',\n",
              "  'поэтому',\n",
              "  'приятный',\n",
              "  'приятно',\n",
              "  'это',\n",
              "  'смывать',\n",
              "  'отлично',\n",
              "  'любить',\n",
              "  'разглаживать',\n",
              "  'рекомендовать',\n",
              "  'запах',\n",
              "  'всё',\n",
              "  'эффект',\n",
              "  'мягкий',\n",
              "  'успокаивать',\n",
              "  'сухой',\n",
              "  'глаз',\n",
              "  'сторона',\n",
              "  'сыворотка',\n",
              "  'вода',\n",
              "  'серия',\n",
              "  'неделя',\n",
              "  'дарить',\n",
              "  'лекало',\n",
              "  'масочок',\n",
              "  'увлажнить',\n",
              "  'сползать',\n",
              "  'напитать',\n",
              "  'упаковка',\n",
              "  'нежный',\n",
              "  'процедура',\n",
              "  'остаток',\n",
              "  'липкий',\n",
              "  'брать',\n",
              "  'тонизировать',\n",
              "  'заявить',\n",
              "  'эластичность',\n",
              "  'советовать',\n",
              "  'стоить',\n",
              "  'гладкий',\n",
              "  'пропитать',\n",
              "  'шея'],\n",
              " ['маска',\n",
              "  'эффект',\n",
              "  'кожа',\n",
              "  'лицо',\n",
              "  'это',\n",
              "  'очень',\n",
              "  'большой',\n",
              "  'никакой',\n",
              "  'запах',\n",
              "  'всё',\n",
              "  'вообще',\n",
              "  'ужасный',\n",
              "  'использование',\n",
              "  'плюс',\n",
              "  'липкий',\n",
              "  'мочь',\n",
              "  'нос',\n",
              "  'купить',\n",
              "  'минута',\n",
              "  'увлажнение',\n",
              "  'пора',\n",
              "  'глаз',\n",
              "  'любить',\n",
              "  'заметить',\n",
              "  'хороший',\n",
              "  'стать',\n",
              "  'применение',\n",
              "  'продукт',\n",
              "  'первый',\n",
              "  'аромат',\n",
              "  'разочарование',\n",
              "  'понравиться',\n",
              "  'аллергия',\n",
              "  'нужно',\n",
              "  'держать',\n",
              "  'вода',\n",
              "  'просто',\n",
              "  'самый',\n",
              "  'сказать',\n",
              "  'красный',\n",
              "  'неприятный',\n",
              "  'ужас',\n",
              "  'ощущение',\n",
              "  'жжение',\n",
              "  'обычный',\n",
              "  'дать',\n",
              "  'жидкость',\n",
              "  'лекало'])"
            ]
          },
          "metadata": {},
          "execution_count": 129
        }
      ]
    },
    {
      "cell_type": "markdown",
      "metadata": {
        "id": "Nwm_z8jOXvj8"
      },
      "source": [
        "Преобразование списков во множества и нахождение тех элементов, которые есть только в положительном множестве и, наоборот, только в отрицательном"
      ]
    },
    {
      "cell_type": "code",
      "metadata": {
        "colab": {
          "base_uri": "https://localhost:8080/"
        },
        "id": "Lx_4XfCfHUjR",
        "outputId": "38b4b43d-8792-4cbd-b6fd-4ac75cdc8996"
      },
      "source": [
        "good_set = set(good_words) - set(bad_words)\n",
        "bad_set = set(bad_words) - set(good_words)\n",
        "good_set, bad_set"
      ],
      "execution_count": 130,
      "outputs": [
        {
          "output_type": "execute_result",
          "data": {
            "text/plain": [
              "({'брать',\n",
              "  'гладкий',\n",
              "  'дарить',\n",
              "  'заявить',\n",
              "  'масочок',\n",
              "  'мягкий',\n",
              "  'напитать',\n",
              "  'неделя',\n",
              "  'нежный',\n",
              "  'остаток',\n",
              "  'отлично',\n",
              "  'отличный',\n",
              "  'патч',\n",
              "  'пахнуть',\n",
              "  'поэтому',\n",
              "  'приятно',\n",
              "  'приятный',\n",
              "  'пропитать',\n",
              "  'процедура',\n",
              "  'разглаживать',\n",
              "  'рекомендовать',\n",
              "  'серия',\n",
              "  'смывать',\n",
              "  'советовать',\n",
              "  'сползать',\n",
              "  'стоить',\n",
              "  'сторона',\n",
              "  'сухой',\n",
              "  'сыворотка',\n",
              "  'тканевый',\n",
              "  'тонизировать',\n",
              "  'увлажнить',\n",
              "  'увлажнять',\n",
              "  'упаковка',\n",
              "  'успокаивать',\n",
              "  'шея',\n",
              "  'эластичность'},\n",
              " {'аллергия',\n",
              "  'аромат',\n",
              "  'большой',\n",
              "  'вообще',\n",
              "  'дать',\n",
              "  'держать',\n",
              "  'жжение',\n",
              "  'жидкость',\n",
              "  'заметить',\n",
              "  'использование',\n",
              "  'красный',\n",
              "  'купить',\n",
              "  'минута',\n",
              "  'мочь',\n",
              "  'неприятный',\n",
              "  'никакой',\n",
              "  'нос',\n",
              "  'нужно',\n",
              "  'обычный',\n",
              "  'ощущение',\n",
              "  'первый',\n",
              "  'плюс',\n",
              "  'пора',\n",
              "  'применение',\n",
              "  'продукт',\n",
              "  'просто',\n",
              "  'разочарование',\n",
              "  'самый',\n",
              "  'сказать',\n",
              "  'стать',\n",
              "  'увлажнение',\n",
              "  'ужас',\n",
              "  'ужасный'})"
            ]
          },
          "metadata": {},
          "execution_count": 130
        }
      ]
    },
    {
      "cell_type": "markdown",
      "metadata": {
        "id": "dlvnCUfRX9aH"
      },
      "source": [
        "Проверка 100 рандомных отзывов на то, положительный он или отрицательный. True - отзыв положительный (оценка 5 или 4), False - отрицательный (все остальные оценки). А также подсчет качества модели"
      ]
    },
    {
      "cell_type": "code",
      "metadata": {
        "colab": {
          "base_uri": "https://localhost:8080/"
        },
        "id": "FwGCrX_2KQdp",
        "outputId": "bfaf5f67-b56d-40a3-d298-0f686f383ac9"
      },
      "source": [
        "def is_good_review(review, good_set, bad_set, good_freqs, bad_freqs):\n",
        "  norm_rev = norm_token_review(review)\n",
        "  norm_set = set(norm_rev)\n",
        "  is_good = norm_set & good_set\n",
        "  is_bad = norm_set & bad_set\n",
        "  #print(review)\n",
        "  '''\n",
        "  freq_rev = get_freqs([[0,norm_rev]])\n",
        "  print(review)\n",
        "  print(freq_rev)\n",
        "  print(\"++++++++++++++\")\n",
        "  for word in is_good:\n",
        "    if word in good_freqs:\n",
        "      print(word, good_freqs[word])\n",
        "  print(\"--------------\")\n",
        "  for word in is_bad:\n",
        "    if word in bad_freqs:\n",
        "      print(word, bad_freqs[word])\n",
        "  '''\n",
        "  if len(is_good) >= len(is_bad):\n",
        "    return True\n",
        "  else:\n",
        "    return False\n",
        "\n",
        "reviews = get_sorted()\n",
        "y_pred = []\n",
        "y_true = []\n",
        "for i in range (100):\n",
        "  rnd = random.choice(reviews)\n",
        "  review = rnd[1]\n",
        "  score = rnd[0]\n",
        "  y_true.append(int(score) > 3)\n",
        "  y_pred.append(is_good_review(review, good_set, bad_set, good_freqs, bad_freqs))\n",
        "print(y_true)\n",
        "print(y_pred)\n",
        "accuracy_score(y_true, y_pred)\n"
      ],
      "execution_count": 136,
      "outputs": [
        {
          "output_type": "stream",
          "name": "stdout",
          "text": [
            "[True, True, True, True, True, True, True, True, True, True, True, True, True, True, True, True, True, True, True, True, True, True, True, True, True, True, True, True, False, True, False, True, False, True, True, True, True, True, True, True, True, True, True, True, True, True, True, True, True, False, True, True, True, True, True, True, True, True, True, True, True, True, True, True, True, True, False, True, True, True, True, True, True, True, True, True, True, True, True, True, True, True, True, True, True, True, True, True, True, True, True, True, True, True, True, True, True, True, True, True]\n",
            "[True, True, True, True, True, True, True, True, True, True, True, True, False, True, True, False, True, False, False, True, True, True, True, True, True, False, True, True, True, True, False, True, False, True, False, True, True, True, True, True, True, True, True, True, True, True, True, True, True, True, False, True, True, True, True, True, True, True, True, False, False, False, True, True, True, True, False, True, True, False, True, True, False, True, True, True, True, False, False, True, True, True, True, True, True, True, True, True, True, True, False, True, True, False, False, True, True, True, False, True]\n"
          ]
        },
        {
          "output_type": "execute_result",
          "data": {
            "text/plain": [
              "0.8"
            ]
          },
          "metadata": {},
          "execution_count": 136
        }
      ]
    },
    {
      "cell_type": "markdown",
      "metadata": {
        "id": "5_C4KJ5tcjUl"
      },
      "source": [
        "Более информативно по 10 рандомным отзывам. Предположительная оценка: если True, то скорее положительная, False - скорее отрицательная"
      ]
    },
    {
      "cell_type": "code",
      "metadata": {
        "colab": {
          "base_uri": "https://localhost:8080/"
        },
        "id": "67GCbkIEYcle",
        "outputId": "5e700a57-76e2-4308-f784-cc7a667eb451"
      },
      "source": [
        "reviews = get_sorted()\n",
        "y_pred = []\n",
        "y_true = []\n",
        "for i in range (10):\n",
        "  rnd = random.choice(reviews)\n",
        "  review = rnd[1]\n",
        "  score = rnd[0]\n",
        "  y_true.append(score)\n",
        "  y_pred.append(is_good_review(review, good_set, bad_set, good_freqs, bad_freqs))\n",
        "for i in range(len(y_true)):\n",
        "  print(\"Настоящая оценка - \", y_true[i], ', Предположительно - ', y_pred[i])"
      ],
      "execution_count": 123,
      "outputs": [
        {
          "output_type": "stream",
          "name": "stdout",
          "text": [
            "Настоящая оценка -  5 , Предположительно -  True\n",
            "Настоящая оценка -  5 , Предположительно -  False\n",
            "Настоящая оценка -  5 , Предположительно -  True\n",
            "Настоящая оценка -  5 , Предположительно -  False\n",
            "Настоящая оценка -  5 , Предположительно -  True\n",
            "Настоящая оценка -  5 , Предположительно -  True\n",
            "Настоящая оценка -  5 , Предположительно -  True\n",
            "Настоящая оценка -  5 , Предположительно -  True\n",
            "Настоящая оценка -  5 , Предположительно -  True\n",
            "Настоящая оценка -  4 , Предположительно -  False\n"
          ]
        }
      ]
    },
    {
      "cell_type": "markdown",
      "metadata": {
        "id": "RDN1JAG4drh_"
      },
      "source": [
        "Способы улучшения:\n",
        "1. Для лучшего результата отсортировать слова при помощи расстояния Ливенштейна, далее использовать стемминг для избавления от однокоренных слов разных частей речи (напр. отлично и отличный). Тогда accuracy станет более точной.\n",
        "2. Отсортировать отзывы не просто по первому столбцу(рейтинг отзыва), но еще и по длине отзыва. Чем больше слов, тем, скорее всего, точнее будут наши множества."
      ]
    }
  ]
}